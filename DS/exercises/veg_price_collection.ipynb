{
 "cells": [
  {
   "cell_type": "code",
   "execution_count": 1,
   "metadata": {},
   "outputs": [],
   "source": [
    "from lxml import html"
   ]
  },
  {
   "cell_type": "code",
   "execution_count": 2,
   "metadata": {},
   "outputs": [],
   "source": [
    "import requests"
   ]
  },
  {
   "cell_type": "code",
   "execution_count": 3,
   "metadata": {},
   "outputs": [],
   "source": [
    "from bs4 import BeautifulSoup"
   ]
  },
  {
   "cell_type": "code",
   "execution_count": 4,
   "metadata": {},
   "outputs": [],
   "source": [
    "url ='https://oddanchatramvegetablemarket.net/oddanchatram-vegetable-market-price-details-7-8-2019/'"
   ]
  },
  {
   "cell_type": "code",
   "execution_count": 5,
   "metadata": {},
   "outputs": [],
   "source": [
    "page = requests.get(url)"
   ]
  },
  {
   "cell_type": "code",
   "execution_count": 6,
   "metadata": {},
   "outputs": [],
   "source": [
    "tree = html.fromstring(page.content)"
   ]
  },
  {
   "cell_type": "code",
   "execution_count": 7,
   "metadata": {},
   "outputs": [
    {
     "data": {
      "text/plain": [
       "['__bool__',\n",
       " '__class__',\n",
       " '__contains__',\n",
       " '__copy__',\n",
       " '__deepcopy__',\n",
       " '__delattr__',\n",
       " '__delitem__',\n",
       " '__dict__',\n",
       " '__dir__',\n",
       " '__doc__',\n",
       " '__eq__',\n",
       " '__format__',\n",
       " '__ge__',\n",
       " '__getattribute__',\n",
       " '__getitem__',\n",
       " '__gt__',\n",
       " '__hash__',\n",
       " '__init__',\n",
       " '__init_subclass__',\n",
       " '__iter__',\n",
       " '__le__',\n",
       " '__len__',\n",
       " '__lt__',\n",
       " '__module__',\n",
       " '__ne__',\n",
       " '__new__',\n",
       " '__reduce__',\n",
       " '__reduce_ex__',\n",
       " '__repr__',\n",
       " '__reversed__',\n",
       " '__setattr__',\n",
       " '__setitem__',\n",
       " '__sizeof__',\n",
       " '__str__',\n",
       " '__subclasshook__',\n",
       " '__weakref__',\n",
       " '_init',\n",
       " 'addnext',\n",
       " 'addprevious',\n",
       " 'append',\n",
       " 'attrib',\n",
       " 'base',\n",
       " 'base_url',\n",
       " 'body',\n",
       " 'classes',\n",
       " 'clear',\n",
       " 'cssselect',\n",
       " 'drop_tag',\n",
       " 'drop_tree',\n",
       " 'extend',\n",
       " 'find',\n",
       " 'find_class',\n",
       " 'find_rel_links',\n",
       " 'findall',\n",
       " 'findtext',\n",
       " 'forms',\n",
       " 'get',\n",
       " 'get_element_by_id',\n",
       " 'getchildren',\n",
       " 'getiterator',\n",
       " 'getnext',\n",
       " 'getparent',\n",
       " 'getprevious',\n",
       " 'getroottree',\n",
       " 'head',\n",
       " 'index',\n",
       " 'insert',\n",
       " 'items',\n",
       " 'iter',\n",
       " 'iterancestors',\n",
       " 'iterchildren',\n",
       " 'iterdescendants',\n",
       " 'iterfind',\n",
       " 'iterlinks',\n",
       " 'itersiblings',\n",
       " 'itertext',\n",
       " 'keys',\n",
       " 'label',\n",
       " 'make_links_absolute',\n",
       " 'makeelement',\n",
       " 'nsmap',\n",
       " 'prefix',\n",
       " 'remove',\n",
       " 'replace',\n",
       " 'resolve_base_href',\n",
       " 'rewrite_links',\n",
       " 'set',\n",
       " 'sourceline',\n",
       " 'tag',\n",
       " 'tail',\n",
       " 'text',\n",
       " 'text_content',\n",
       " 'values',\n",
       " 'xpath']"
      ]
     },
     "execution_count": 7,
     "metadata": {},
     "output_type": "execute_result"
    }
   ],
   "source": [
    "dir(tree)"
   ]
  },
  {
   "cell_type": "code",
   "execution_count": 8,
   "metadata": {},
   "outputs": [
    {
     "data": {
      "text/plain": [
       "lxml.html.HtmlElement"
      ]
     },
     "execution_count": 8,
     "metadata": {},
     "output_type": "execute_result"
    }
   ],
   "source": [
    "type(tree)"
   ]
  },
  {
   "cell_type": "code",
   "execution_count": 9,
   "metadata": {},
   "outputs": [],
   "source": [
    "content = BeautifulSoup(page.content, 'html.parser')"
   ]
  },
  {
   "cell_type": "code",
   "execution_count": 10,
   "metadata": {},
   "outputs": [
    {
     "data": {
      "text/plain": [
       "bs4.BeautifulSoup"
      ]
     },
     "execution_count": 10,
     "metadata": {},
     "output_type": "execute_result"
    }
   ],
   "source": [
    "type(content)"
   ]
  },
  {
   "cell_type": "code",
   "execution_count": 11,
   "metadata": {},
   "outputs": [],
   "source": [
    "tables = [\n",
    "    [\n",
    "        [td.get_text(strip=True) for td in tr.find_all('td')] \n",
    "        for tr in table.find_all('tr')\n",
    "    ] \n",
    "    for table in content.find_all('table')\n",
    "]"
   ]
  },
  {
   "cell_type": "code",
   "execution_count": 12,
   "metadata": {},
   "outputs": [
    {
     "data": {
      "text/plain": [
       "[[['Commodity', 'Weight/KG', 'Price/RS'],\n",
       "  ['Lemon/எலுமிச்சை', '1', '80 to 100'],\n",
       "  ['Tomato/தக்காளி 1st Quality', '1', '15 to 20'],\n",
       "  ['Tomato/தக்காளி 2nd Quality', '1', '10 to 15'],\n",
       "  ['Small Onion/சிறிய வெங்காயம்', '1', '25 to 50'],\n",
       "  ['Bellary/பெல்லாரி', '1', '20 to 25'],\n",
       "  ['Beans/பீன்ஸ் 1st Quality', '1', '60 to 80'],\n",
       "  ['Beans/பீன்ஸ் 2nd Quality', '1', '55 to 75'],\n",
       "  ['Carrot/கேரட் 1st Quality', '1', '50 to 70'],\n",
       "  ['Carrot/கேரட் 2nd Quality', '1', '45 to 65'],\n",
       "  ['Lady Finger/வெண்டைக்காய்', '1', '10 to 12'],\n",
       "  ['Tree Drumstick/மரம் முருங்கை', '1', '17'],\n",
       "  ['Plant Drumstick/முருங்கை', '1', '23'],\n",
       "  ['Beans/அவரை ஒட்டு', '1', '20 to 35'],\n",
       "  ['Green Pulses/பச்சை பயிறு', '1', '20'],\n",
       "  ['White Pulses/வெள்ளை பயிறு', '1', '20'],\n",
       "  ['Zucchini/சுரைக்காய்', '1', '6 to 18'],\n",
       "  ['Beetroot/பீட்ரூட்', '1', '16 to 20'],\n",
       "  ['White Pumpkin/வெள்ளை பூசணிக்காய்', '1', '8 to 10'],\n",
       "  ['Sambar Pumpkin/சாம்பார் பூசணிக்காய்', '1', '6 to 8'],\n",
       "  ['Kalla Manga/கள்ள மாங்காய்', '1', '80'],\n",
       "  ['OOrutu Manga/உருட்டு மாங்காய்', '1', '60'],\n",
       "  ['Potato/உருளைக்கிழங்கு 1st Quality', '1', '15 to 30'],\n",
       "  ['Potato/உருளைக்கிழங்கு 2nd Quality', '1', '10 to 25'],\n",
       "  ['Coconut/தேங்காய் 1st Quality', '1', '20 to 25'],\n",
       "  ['Coconut/தேங்காய் 2nd Quality', '1', '15 to 20'],\n",
       "  ['Green Chilli/பச்சை மிளகாய்', '1', '16 to 22'],\n",
       "  ['Cauliflower/காலிஃபிளவர் 1st Quality', '1', '25 to 30'],\n",
       "  ['Cauliflower/காலிஃபிளவர் 2nd Quality', '1', '20 to 25'],\n",
       "  ['Green Brinjal/கத்தரிக்காய் பச்சை', '1', '20 to 30'],\n",
       "  ['Blue Brinjal/கத்தரிக்காய் நீலம்', '1', '10 to 20'],\n",
       "  ['Banana Thar/வாழை தார்', '1', '24 to 26'],\n",
       "  ['Curry Leaves/கறிவேப்பிலை', '1', '15 to 20'],\n",
       "  ['Gourd/புடலங்காய் 1st Quality', '1', '9 to 11'],\n",
       "  ['Gourd/புடலங்காய் 2nd Quality', '1', '–'],\n",
       "  ['Coriander/கொத்தமல்லி 1st Quality', '1', '30 to 40'],\n",
       "  ['Coriander/கொத்தமல்லி 2nd Quality', '1', '25 to 35'],\n",
       "  ['Radish/முள்ளங்கி 1st Quality', '1', '15 to 20'],\n",
       "  ['Radish/முள்ளங்கி 2nd Quality', '1', '10 to 15'],\n",
       "  ['Ginger/இஞ்சி', '1', '80 to 180'],\n",
       "  ['Butter Beans/பட்டர் பீன்ஸ்', '1', '80 to 140'],\n",
       "  ['Cabbage/முட்டை கோஸ்', '1', '25 to 35'],\n",
       "  ['Green Peas/பச்சை பட்டாணி', '1', '50 to 80'],\n",
       "  ['Bitter Gourd/பாகற்காய்', '1', '23 to 26'],\n",
       "  ['Nookal/நூக்கல்', '1', '20 to 30'],\n",
       "  ['Chaw Chaw/சவ்சவ்', '1', '20 to 30'],\n",
       "  ['Kovakkai/கோவக்காய்', '1', '20 to 33'],\n",
       "  ['Cluster Beans/கொத்தவரங்காய்', '1', '25 to 30'],\n",
       "  ['Gooseberry/நெல்லிக்காய்', '1', '80 to 100'],\n",
       "  ['Narthangai/நார்த்தங்காய்', '1', '70 to 90'],\n",
       "  ['Cucumber/வெள்ளரிக்காய்', '1', '27'],\n",
       "  ['Garlic/வெள்ளை பூண்டு', '1', '100 to 180'],\n",
       "  ['Gourd/பீர்க்கங்காய்', '1', '25 to 30'],\n",
       "  ['Small Tuber/சிறு கிழங்கு', '1', '40 to 50'],\n",
       "  ['Colocasia/சேப்பங்கிழங்கு', '1', '35 to 45'],\n",
       "  ['Soya beans/சோயா பீன்ஸ்', '1', '80 to 140'],\n",
       "  ['Butter Soya/பட்டர் சோயா', '1', '80 to 140'],\n",
       "  ['Senai Kilangu/சேனை கிழங்கு', '1', '25 to 30'],\n",
       "  ['Karunai Kilangu/கருணைக்கிழங்கு', '1', '60 to 65'],\n",
       "  ['Drumstick beans/முருங்கை பீன்ஸ்', '1', '60'],\n",
       "  ['Mangai Inji/மாங்காய் இஞ்சி', '1', '100 to 150']]]"
      ]
     },
     "execution_count": 12,
     "metadata": {},
     "output_type": "execute_result"
    }
   ],
   "source": [
    "tables"
   ]
  },
  {
   "cell_type": "code",
   "execution_count": 18,
   "metadata": {},
   "outputs": [
    {
     "data": {
      "text/plain": [
       "'Lemon'"
      ]
     },
     "execution_count": 18,
     "metadata": {},
     "output_type": "execute_result"
    }
   ],
   "source": [
    "tables[0][1][0].split('/')[0]"
   ]
  },
  {
   "cell_type": "code",
   "execution_count": 19,
   "metadata": {},
   "outputs": [],
   "source": [
    "def getURL(page):\n",
    "    \"\"\"\n",
    "\n",
    "    :param page: html of web page (here: Python home page) \n",
    "    :return: urls in that page \n",
    "    \"\"\"\n",
    "    start_link = page.find(\"a href\")\n",
    "    if start_link == -1:\n",
    "        return None, 0\n",
    "    start_quote = page.find('\"', start_link)\n",
    "    end_quote = page.find('\"', start_quote + 1)\n",
    "    url = page[start_quote + 1: end_quote]\n",
    "    return url, end_quote"
   ]
  },
  {
   "cell_type": "code",
   "execution_count": 21,
   "metadata": {},
   "outputs": [],
   "source": [
    "url, n = getURL(str(content))"
   ]
  },
  {
   "cell_type": "code",
   "execution_count": 22,
   "metadata": {},
   "outputs": [
    {
     "data": {
      "text/plain": [
       "'https://oddanchatramvegetablemarket.net'"
      ]
     },
     "execution_count": 22,
     "metadata": {},
     "output_type": "execute_result"
    }
   ],
   "source": [
    "url"
   ]
  },
  {
   "cell_type": "code",
   "execution_count": 23,
   "metadata": {},
   "outputs": [
    {
     "data": {
      "text/plain": [
       "19412"
      ]
     },
     "execution_count": 23,
     "metadata": {},
     "output_type": "execute_result"
    }
   ],
   "source": [
    "n"
   ]
  },
  {
   "cell_type": "code",
   "execution_count": 24,
   "metadata": {},
   "outputs": [
    {
     "data": {
      "text/plain": [
       "[<a href=\"https://oddanchatramvegetablemarket.net\"><img alt=\"Oddanchatram Vegetable Market News, Tamilnadu\" src=\"https://oddanchatramvegetablemarket.net/wp-content/uploads/2017/12/asd.png\"/></a>,\n",
       " <a href=\"https://oddanchatramvegetablemarket.net/about-market/\">About Gandhi Market</a>,\n",
       " <a href=\"https://oddanchatramvegetablemarket.net/add/\">Add Business (FREE)</a>,\n",
       " <a href=\"https://oddanchatramvegetablemarket.net/buy-sell/\">Buy Sell</a>,\n",
       " <a href=\"https://oddanchatramvegetablemarket.net/\">Home</a>,\n",
       " <a href=\"https://oddanchatramvegetablemarket.net/category/oddanchatram-vegetable-price/\">Oddanchatram Gandhi Market Vegetable Price</a>,\n",
       " <a href=\"https://oddanchatramvegetablemarket.net/category/dindigul-vegetable-price/\">Dindigul Vegetable Price</a>,\n",
       " <a href=\"https://oddanchatramvegetablemarket.net/category/coconut-market-price/\">Coconut Market Price</a>,\n",
       " <a href=\"https://oddanchatramvegetablemarket.net/category/oddanchatram-vegetable-wholesalers/\">Oddanchatram Market Wholesalers</a>,\n",
       " <a href=\"https://oddanchatramvegetablemarket.net/category/chennai-vegetable-wholesalers/\">Chennai Market Wholesalers</a>,\n",
       " <a class=\"custom-soc icon-text ot-share\" data-url=\"https://oddanchatramvegetablemarket.net/oddanchatram-vegetable-market-price-details-7-8-2019/\" href=\"http://www.facebook.com/sharer/sharer.php?u=https://oddanchatramvegetablemarket.net/oddanchatram-vegetable-market-price-details-7-8-2019/\"></a>,\n",
       " <a class=\"ot-tweet custom-soc icon-text\" data-hashtags=\"\" data-text=\"Oddanchatram Vegetable Market Price Details 7/8/2019\" data-url=\"https://oddanchatramvegetablemarket.net/oddanchatram-vegetable-market-price-details-7-8-2019/\" data-via=\"odcmarket\" href=\"#\"></a>,\n",
       " <a class=\"custom-soc icon-text ot-pluss\" href=\"https://plus.google.com/share?url=https://oddanchatramvegetablemarket.net/oddanchatram-vegetable-market-price-details-7-8-2019/\"></a>,\n",
       " <a class=\"ot-pin custom-soc icon-text\" data-url=\"https://oddanchatramvegetablemarket.net/oddanchatram-vegetable-market-price-details-7-8-2019/\" href=\"http://pinterest.com/pin/create/button/?url=https://oddanchatramvegetablemarket.net/oddanchatram-vegetable-market-price-details-7-8-2019/&amp;media=https://oddanchatramvegetablemarket.net/wp-content/uploads/2019/08/Oddanchatram-Vegetable-Market-Images-4-2.jpg&amp;description=Oddanchatram Vegetable Market Price Details 7/8/2019\"></a>,\n",
       " <a class=\"ot-link custom-soc icon-text\" data-url=\"https://oddanchatramvegetablemarket.net/oddanchatram-vegetable-market-price-details-7-8-2019/\" href=\"http://www.linkedin.com/shareArticle?mini=true&amp;url=https://oddanchatramvegetablemarket.net/oddanchatram-vegetable-market-price-details-7-8-2019/&amp;title=Oddanchatram Vegetable Market Price Details 7/8/2019\"></a>,\n",
       " <a class=\"small-button\" href=\"javascript:printArticle();\"><span class=\"icon-text\"></span>  Print this article</a>,\n",
       " <a class=\"small-button\" href=\"mailto:?subject=Oddanchatram%20Vegetable%20Market%20News%2C%20Tamilnadu%20%3A%20Oddanchatram%20Vegetable%20Market%20Price%20Details%207%2F8%2F2019&amp;body=Check%20out%20this%20article%3A%20Oddanchatram%20Vegetable%20Market%20Price%20Details%207%2F8%2F2019%20-%20https%3A%2F%2Foddanchatramvegetablemarket.net%2Foddanchatram-vegetable-market-price-details-7-8-2019%2F\" target=\"_blank\" title=\"Oddanchatram Vegetable Market Price Details 7/8/2019\"><span class=\"icon-text\">✉</span>  Send e-mail</a>,\n",
       " <a class=\"custom-soc icon-text ot-share\" data-url=\"https://oddanchatramvegetablemarket.net/oddanchatram-vegetable-market-price-details-7-8-2019/\" href=\"http://www.facebook.com/sharer/sharer.php?u=https://oddanchatramvegetablemarket.net/oddanchatram-vegetable-market-price-details-7-8-2019/\"></a>,\n",
       " <a class=\"ot-tweet custom-soc icon-text\" data-hashtags=\"\" data-text=\"Oddanchatram Vegetable Market Price Details 7/8/2019\" data-url=\"https://oddanchatramvegetablemarket.net/oddanchatram-vegetable-market-price-details-7-8-2019/\" data-via=\"odcmarket\" href=\"#\"></a>,\n",
       " <a class=\"custom-soc icon-text ot-pluss\" href=\"https://plus.google.com/share?url=https://oddanchatramvegetablemarket.net/oddanchatram-vegetable-market-price-details-7-8-2019/\"></a>,\n",
       " <a class=\"ot-pin custom-soc icon-text\" data-url=\"https://oddanchatramvegetablemarket.net/oddanchatram-vegetable-market-price-details-7-8-2019/\" href=\"http://pinterest.com/pin/create/button/?url=https://oddanchatramvegetablemarket.net/oddanchatram-vegetable-market-price-details-7-8-2019/&amp;media=https://oddanchatramvegetablemarket.net/wp-content/uploads/2019/08/Oddanchatram-Vegetable-Market-Images-4-2.jpg&amp;description=Oddanchatram Vegetable Market Price Details 7/8/2019\"></a>,\n",
       " <a class=\"ot-link custom-soc icon-text\" data-url=\"https://oddanchatramvegetablemarket.net/oddanchatram-vegetable-market-price-details-7-8-2019/\" href=\"http://www.linkedin.com/shareArticle?mini=true&amp;url=https://oddanchatramvegetablemarket.net/oddanchatram-vegetable-market-price-details-7-8-2019/&amp;title=Oddanchatram Vegetable Market Price Details 7/8/2019\"></a>,\n",
       " <a class=\"small-button\" href=\"javascript:printArticle();\"><span class=\"icon-text\"></span>  Print this article</a>,\n",
       " <a class=\"small-button\" href=\"mailto:?subject=Oddanchatram%20Vegetable%20Market%20News%2C%20Tamilnadu%20%3A%20Oddanchatram%20Vegetable%20Market%20Price%20Details%207%2F8%2F2019&amp;body=Check%20out%20this%20article%3A%20Oddanchatram%20Vegetable%20Market%20Price%20Details%207%2F8%2F2019%20-%20https%3A%2F%2Foddanchatramvegetablemarket.net%2Foddanchatram-vegetable-market-price-details-7-8-2019%2F\" target=\"_blank\" title=\"Oddanchatram Vegetable Market Price Details 7/8/2019\"><span class=\"icon-text\">✉</span>  Send e-mail</a>,\n",
       " <a class=\"right\" href=\"#respond\">Write a comment</a>,\n",
       " <a class=\"icon-link\" href=\"#respond\"><span class=\"icon-text\"></span>Write a comment</a>,\n",
       " <a class=\"right\" href=\"#comments\">View comments</a>,\n",
       " <a href=\"#\" name=\"respond\"></a>,\n",
       " <a href=\"/oddanchatram-vegetable-market-price-details-7-8-2019/#respond\" id=\"cancel-comment-reply-link\" rel=\"nofollow\" style=\"display:none;\">Click here to cancel reply.</a>,\n",
       " <a href=\"https://akismet.com/privacy/\" rel=\"nofollow noopener\" target=\"_blank\">Learn how your comment data is processed</a>,\n",
       " <a href=\"https://www.facebook.com/odcmarket\">Oddanchatram Vegetable Market</a>,\n",
       " <a class=\"hover-effect\" href=\"https://oddanchatramvegetablemarket.net/oddanchatram-vegetable-market-price-details-7-8-2019/\">\n",
       " <img alt=\"Oddanchatram Vegetable Market Price Details 7/8/2019\" class=\"image-border\" src=\"https://oddanchatramvegetablemarket.net/wp-content/uploads/2019/08/Oddanchatram-Vegetable-Market-Images-4-2-59x42.jpg\"/> </a>,\n",
       " <a href=\"https://oddanchatramvegetablemarket.net/oddanchatram-vegetable-market-price-details-7-8-2019/\">Oddanchatram Vegetable Market Price Details 7/8/2019</a>,\n",
       " <a class=\"h-comment\" href=\"https://oddanchatramvegetablemarket.net/oddanchatram-vegetable-market-price-details-7-8-2019/#comments\">0</a>,\n",
       " <a class=\"hover-effect\" href=\"https://oddanchatramvegetablemarket.net/oddanchatram-vegetable-market-price-details-6-8-2019/\">\n",
       " <img alt=\"Oddanchatram Vegetable Market Price Details 6/8/2019\" class=\"image-border\" src=\"https://oddanchatramvegetablemarket.net/wp-content/uploads/2019/08/Oddanchatram-Vegetable-Market-Images-2-59x42.jpg\"/> </a>,\n",
       " <a href=\"https://oddanchatramvegetablemarket.net/oddanchatram-vegetable-market-price-details-6-8-2019/\">Oddanchatram Vegetable Market Price Details 6/8/2019</a>,\n",
       " <a class=\"h-comment\" href=\"https://oddanchatramvegetablemarket.net/oddanchatram-vegetable-market-price-details-6-8-2019/#comments\">0</a>,\n",
       " <a class=\"hover-effect\" href=\"https://oddanchatramvegetablemarket.net/oddanchatram-vegetable-market-price-details-5-8-2019/\">\n",
       " <img alt=\"Oddanchatram Vegetable Market Price Details 5/8/2019\" class=\"image-border\" src=\"https://oddanchatramvegetablemarket.net/wp-content/uploads/2019/08/Oddanchatram-Vegetable-Market-Images-3-59x42.jpg\"/> </a>,\n",
       " <a href=\"https://oddanchatramvegetablemarket.net/oddanchatram-vegetable-market-price-details-5-8-2019/\">Oddanchatram Vegetable Market Price Details 5/8/2019</a>,\n",
       " <a class=\"h-comment\" href=\"https://oddanchatramvegetablemarket.net/oddanchatram-vegetable-market-price-details-5-8-2019/#comments\">0</a>,\n",
       " <a class=\"hover-effect\" href=\"https://oddanchatramvegetablemarket.net/coconut-market-price-tamilnadu-22122016/\">\n",
       " <img alt=\"Coconut Market Price Tamilnadu 22/12/2016\" class=\"image-border\" src=\"https://oddanchatramvegetablemarket.net/wp-content/uploads/2016/03/semi-husked-coconut-678582-2-59x42.jpg\"/> </a>,\n",
       " <a href=\"https://oddanchatramvegetablemarket.net/coconut-market-price-tamilnadu-22122016/\">Coconut Market Price Tamilnadu 22/12/2016</a>,\n",
       " <a class=\"h-comment\" href=\"https://oddanchatramvegetablemarket.net/coconut-market-price-tamilnadu-22122016/#comments\">23</a>,\n",
       " <a class=\"hover-effect\" href=\"https://oddanchatramvegetablemarket.net/coconut-market-price-tamilnadu-23112016/\">\n",
       " <img alt=\"Coconut Market Price Tamilnadu 23/11/2016\" class=\"image-border\" src=\"https://oddanchatramvegetablemarket.net/wp-content/uploads/2016/03/semi-husked-coconut-678582-2-59x42.jpg\"/> </a>,\n",
       " <a href=\"https://oddanchatramvegetablemarket.net/coconut-market-price-tamilnadu-23112016/\">Coconut Market Price Tamilnadu 23/11/2016</a>,\n",
       " <a class=\"h-comment\" href=\"https://oddanchatramvegetablemarket.net/coconut-market-price-tamilnadu-23112016/#comments\">10</a>,\n",
       " <a class=\"hover-effect\" href=\"https://oddanchatramvegetablemarket.net/coconut-market-price-tamilnadu-9112016/\">\n",
       " <img alt=\"Coconut Market Price Tamilnadu 9/11/2016\" class=\"image-border\" src=\"https://oddanchatramvegetablemarket.net/wp-content/uploads/2016/08/coconut-bulk-quantity-supplier.jpg_350x350-59x42.jpg\"/> </a>,\n",
       " <a href=\"https://oddanchatramvegetablemarket.net/coconut-market-price-tamilnadu-9112016/\">Coconut Market Price Tamilnadu 9/11/2016</a>,\n",
       " <a class=\"h-comment\" href=\"https://oddanchatramvegetablemarket.net/coconut-market-price-tamilnadu-9112016/#comments\">0</a>,\n",
       " <a href=\"https://oddanchatramvegetablemarket.net/category/fresh-vegetables-wholesalers/coimbatore/\">Coimbatore</a>,\n",
       " <a href=\"https://oddanchatramvegetablemarket.net/category/fresh-vegetables-wholesalers/tiruppur-fruits-and-vegetables-exporters/\">Tiruppur</a>,\n",
       " <a href=\"https://oddanchatramvegetablemarket.net/category/fresh-vegetables-wholesalers/chennai/\">Chennai</a>,\n",
       " <a href=\"https://oddanchatramvegetablemarket.net/category/fresh-vegetables/coconut/\">Coconut</a>,\n",
       " <a href=\"https://oddanchatramvegetablemarket.net/category/fresh-vegetables/garlic/\">Garlic</a>,\n",
       " <a href=\"https://oddanchatramvegetablemarket.net/category/fresh-vegetables/onion/\">Onion</a>,\n",
       " <a href=\"https://oddanchatramvegetablemarket.net/category/fresh-vegetables/potato/\">Potato</a>,\n",
       " <a class=\"twitter-timeline\" data-widget-id=\"327667018654420992\" href=\"https://twitter.com/OdcMarket\">Tweets by @OdcMarket</a>,\n",
       " <a href=\"https://oddanchatramvegetablemarket.net/\">Home</a>,\n",
       " <a href=\"https://oddanchatramvegetablemarket.net/blog/\">Blog</a>,\n",
       " <a href=\"https://oddanchatramvegetablemarket.net/terms-of-service-policy/\">Terms of Service Policy</a>,\n",
       " <a href=\"https://oddanchatramvegetablemarket.net/disclaimer/\">Disclaimer</a>,\n",
       " <a href=\"https://oddanchatramvegetablemarket.net/privacy-policy/\">Privacy Policy</a>,\n",
       " <a href=\"https://oddanchatramvegetablemarket.net/contact-us/\">Contact Us</a>,\n",
       " <a class=\"light-close\" href=\"#\" onclick=\"javascript:lightboxclose();\"><span>❎</span>Close Window</a>]"
      ]
     },
     "execution_count": 24,
     "metadata": {},
     "output_type": "execute_result"
    }
   ],
   "source": [
    "content.find_all('a')"
   ]
  },
  {
   "cell_type": "code",
   "execution_count": 25,
   "metadata": {},
   "outputs": [],
   "source": [
    "url ='https://oddanchatramvegetablemarket.net/oddanchatram-vegetable-price/page'"
   ]
  },
  {
   "cell_type": "code",
   "execution_count": 27,
   "metadata": {},
   "outputs": [],
   "source": [
    "url = url+'0'"
   ]
  },
  {
   "cell_type": "code",
   "execution_count": 29,
   "metadata": {},
   "outputs": [],
   "source": [
    "response = requests.get(url)"
   ]
  },
  {
   "cell_type": "code",
   "execution_count": 30,
   "metadata": {},
   "outputs": [],
   "source": [
    "output = str(BeautifulSoup(response.content))"
   ]
  },
  {
   "cell_type": "code",
   "execution_count": 31,
   "metadata": {},
   "outputs": [
    {
     "data": {
      "text/plain": [
       "'<!DOCTYPE html>\\n<!-- BEGIN html --><html lang=\"en-US\" xmlns=\"http://www.w3.org/1999/xhtml\" xmlns:fb=\"http://ogp.me/ns/fb#\">\\n<!-- BEGIN head -->\\n<head>\\n</head><body><div class=\"cfmonitor\"><script async=\"\" src=\"//pagead2.googlesyndication.com/pagead/js/adsbygoogle.js\"></script>\\n<!-- Oddan.net Header -->\\n<ins class=\"adsbygoogle\" data-ad-client=\"ca-pub-8502141479774224\" data-ad-format=\"auto\" data-ad-slot=\"7491374183\" style=\"display:block\"></ins>\\n<script>\\n(adsbygoogle = window.adsbygoogle || []).push({});\\n</script></div>\\n<!-- Title -->\\n<title>Oddanchatram Vegetable Price Details 01/05/2013 | Oddanchatram Vegetable Market News, Tamilnadu</title>\\n<!-- Meta Tags -->\\n<meta content=\"text/html; charset=utf-8\" http-equiv=\"content-type\"/>\\n<meta content=\"width=device-width, initial-scale=1, maximum-scale=1\" name=\"viewport\"/>\\n<!-- Favicon -->\\n<link href=\"https://oddanchatramvegetablemarket.net/wp-content/uploads/2017/12/fv.png\" rel=\"shortcut icon\" type=\"image/x-icon\"/>\\n<link href=\"https://oddanchatramvegetablemarket.net/feed/\" rel=\"alternate\" title=\"Oddanchatram Vegetable Market News, Tamilnadu latest posts\" type=\"application/rss+xml\"/>\\n<link href=\"https://oddanchatramvegetablemarket.net/comments/feed/\" rel=\"alternate\" title=\"Oddanchatram Vegetable Market News, Tamilnadu latest comments\" type=\"application/rss+xml\"/>\\n<link href=\"https://oddanchatramvegetablemarket.net/xmlrpc.php\" rel=\"pingback\"/>\\n<!-- All in One SEO Pack 3.1.1 by Michael Torbert of Semper Fi Web Designob_start_detected [-1,-1] -->\\n<meta content=\"S.No Commodity /\\xa0சரக்கு Weight /\\xa0கிலோ Price /\\xa0விலை 1 Avarai Belt / அவரை (பெல்ட்) 1 40 2 Avarai Kolee /\\xa0அவரை (கோலி) 1 39 3 Avarai ottu /\\xa0அவரை (ஒட்டு) 1 36 4\" name=\"description\"/>\\n<meta content=\"oddanchatram vegetable price details 01/05/2013\" name=\"keywords\"/>\\n<link href=\"https://oddanchatramvegetablemarket.net/oddanchatram-vegetable-price-details-01052013/\" rel=\"canonical\"/>\\n<!-- All in One SEO Pack -->\\n<link href=\"//s0.wp.com\" rel=\"dns-prefetch\"/>\\n<link href=\"//secure.gravatar.com\" rel=\"dns-prefetch\"/>\\n<link href=\"//ajax.googleapis.com\" rel=\"dns-prefetch\"/>\\n<link href=\"//fonts.googleapis.com\" rel=\"dns-prefetch\"/>\\n<link href=\"//s.w.org\" rel=\"dns-prefetch\"/>\\n<link href=\"https://oddanchatramvegetablemarket.net/feed/\" rel=\"alternate\" title=\"Oddanchatram Vegetable Market News, Tamilnadu » Feed\" type=\"application/rss+xml\"/>\\n<link href=\"https://oddanchatramvegetablemarket.net/comments/feed/\" rel=\"alternate\" title=\"Oddanchatram Vegetable Market News, Tamilnadu » Comments Feed\" type=\"application/rss+xml\"/>\\n<link href=\"https://oddanchatramvegetablemarket.net/oddanchatram-vegetable-price-details-01052013/feed/\" rel=\"alternate\" title=\"Oddanchatram Vegetable Market News, Tamilnadu » Oddanchatram Vegetable Price Details 01/05/2013 Comments Feed\" type=\"application/rss+xml\"/>\\n<script type=\"text/javascript\">\\n\\t\\t\\twindow._wpemojiSettings = {\"baseUrl\":\"https:\\\\/\\\\/s.w.org\\\\/images\\\\/core\\\\/emoji\\\\/12.0.0-1\\\\/72x72\\\\/\",\"ext\":\".png\",\"svgUrl\":\"https:\\\\/\\\\/s.w.org\\\\/images\\\\/core\\\\/emoji\\\\/12.0.0-1\\\\/svg\\\\/\",\"svgExt\":\".svg\",\"source\":{\"concatemoji\":\"https:\\\\/\\\\/oddanchatramvegetablemarket.net\\\\/wp-includes\\\\/js\\\\/wp-emoji-release.min.js?ver=5.2.2\"}};\\n\\t\\t\\t!function(a,b,c){function d(a,b){var c=String.fromCharCode;l.clearRect(0,0,k.width,k.height),l.fillText(c.apply(this,a),0,0);var d=k.toDataURL();l.clearRect(0,0,k.width,k.height),l.fillText(c.apply(this,b),0,0);var e=k.toDataURL();return d===e}function e(a){var b;if(!l||!l.fillText)return!1;switch(l.textBaseline=\"top\",l.font=\"600 32px Arial\",a){case\"flag\":return!(b=d([55356,56826,55356,56819],[55356,56826,8203,55356,56819]))&&(b=d([55356,57332,56128,56423,56128,56418,56128,56421,56128,56430,56128,56423,56128,56447],[55356,57332,8203,56128,56423,8203,56128,56418,8203,56128,56421,8203,56128,56430,8203,56128,56423,8203,56128,56447]),!b);case\"emoji\":return b=d([55357,56424,55356,57342,8205,55358,56605,8205,55357,56424,55356,57340],[55357,56424,55356,57342,8203,55358,56605,8203,55357,56424,55356,57340]),!b}return!1}function f(a){var c=b.createElement(\"script\");c.src=a,c.defer=c.type=\"text/javascript\",b.getElementsByTagName(\"head\")[0].appendChild(c)}var g,h,i,j,k=b.createElement(\"canvas\"),l=k.getContext&&k.getContext(\"2d\");for(j=Array(\"flag\",\"emoji\"),c.supports={everything:!0,everythingExceptFlag:!0},i=0;i<j.length;i++)c.supports[j[i]]=e(j[i]),c.supports.everything=c.supports.everything&&c.supports[j[i]],\"flag\"!==j[i]&&(c.supports.everythingExceptFlag=c.supports.everythingExceptFlag&&c.supports[j[i]]);c.supports.everythingExceptFlag=c.supports.everythingExceptFlag&&!c.supports.flag,c.DOMReady=!1,c.readyCallback=function(){c.DOMReady=!0},c.supports.everything||(h=function(){c.readyCallback()},b.addEventListener?(b.addEventListener(\"DOMContentLoaded\",h,!1),a.addEventListener(\"load\",h,!1)):(a.attachEvent(\"onload\",h),b.attachEvent(\"onreadystatechange\",function(){\"complete\"===b.readyState&&c.readyCallback()})),g=c.source||{},g.concatemoji?f(g.concatemoji):g.wpemoji&&g.twemoji&&(f(g.twemoji),f(g.wpemoji)))}(window,document,window._wpemojiSettings);\\n\\t\\t</script>\\n<style type=\"text/css\">\\nimg.wp-smiley,\\nimg.emoji {\\n\\tdisplay: inline !important;\\n\\tborder: none !important;\\n\\tbox-shadow: none !important;\\n\\theight: 1em !important;\\n\\twidth: 1em !important;\\n\\tmargin: 0 .07em !important;\\n\\tvertical-align: -0.1em !important;\\n\\tbackground: none !important;\\n\\tpadding: 0 !important;\\n}\\n</style>\\n<link href=\"https://oddanchatramvegetablemarket.net/wp-includes/css/dist/block-library/style.min.css?ver=5.2.2\" id=\"wp-block-library-css\" media=\"all\" rel=\"stylesheet\" type=\"text/css\"/>\\n<link href=\"https://oddanchatramvegetablemarket.net/wp-content/plugins/accesspress-anonymous-post-pro/css/loading-animation.css?ver=5.2.2\" id=\"ap-fileuploader-animation-css\" media=\"all\" rel=\"stylesheet\" type=\"text/css\"/>\\n<link href=\"https://oddanchatramvegetablemarket.net/wp-content/plugins/accesspress-anonymous-post-pro/css/fileuploader.css?ver=5.2.2\" id=\"ap-fileuploader-css\" media=\"all\" rel=\"stylesheet\" type=\"text/css\"/>\\n<link href=\"//ajax.googleapis.com/ajax/libs/jqueryui/1.8.2/themes/smoothness/jquery-ui.css?ver=5.2.2\" id=\"ap-jquery-ui-style-css\" media=\"all\" rel=\"stylesheet\" type=\"text/css\"/>\\n<link href=\"https://oddanchatramvegetablemarket.net/wp-content/plugins/accesspress-anonymous-post-pro/css/frontend-style.css?ver=3.0.1\" id=\"ap-front-styles-css\" media=\"all\" rel=\"stylesheet\" type=\"text/css\"/>\\n<link href=\"https://oddanchatramvegetablemarket.net/wp-content/plugins/accesspress-anonymous-post-pro/lightbox/css/lightbox.css?ver=3.0.1\" id=\"ap-lightbox-css-css\" media=\"all\" rel=\"stylesheet\" type=\"text/css\"/>\\n<link href=\"https://oddanchatramvegetablemarket.net/wp-content/plugins/contact-form-7/includes/css/styles.css?ver=5.1.3\" id=\"contact-form-7-css\" media=\"all\" rel=\"stylesheet\" type=\"text/css\"/>\\n<link href=\"https://oddanchatramvegetablemarket.net/wp-content/plugins/simple-responsive-slider/assets/css/responsiveslides.css?ver=5.2.2\" id=\"responsiveslides-css\" media=\"all\" rel=\"stylesheet\" type=\"text/css\"/>\\n<link href=\"https://fonts.googleapis.com/css?family=Titillium+Web&amp;ver=5.2.2\" id=\"google-fonts-1-css\" media=\"all\" rel=\"stylesheet\" type=\"text/css\"/>\\n<link href=\"https://fonts.googleapis.com/css?family=Source+Sans+Pro&amp;ver=5.2.2\" id=\"google-fonts-2-css\" media=\"all\" rel=\"stylesheet\" type=\"text/css\"/>\\n<link href=\"https://oddanchatramvegetablemarket.net/wp-content/themes/ODCV2.1/css/reset.css?ver=5.2.2\" id=\"reset-css\" media=\"all\" rel=\"stylesheet\" type=\"text/css\"/>\\n<link href=\"https://oddanchatramvegetablemarket.net/wp-content/themes/ODCV2.1/css/main-stylesheet.css?ver=5.2.2\" id=\"main-stylesheet-css\" media=\"all\" rel=\"stylesheet\" type=\"text/css\"/>\\n<link href=\"https://oddanchatramvegetablemarket.net/wp-content/themes/ODCV2.1/css/shortcode.css?ver=5.2.2\" id=\"shortcodes-css\" media=\"all\" rel=\"stylesheet\" type=\"text/css\"/>\\n<link href=\"https://oddanchatramvegetablemarket.net/wp-content/themes/ODCV2.1/css/lightbox.css?ver=5.2.2\" id=\"lightbox-css\" media=\"all\" rel=\"stylesheet\" type=\"text/css\"/>\\n<link href=\"https://oddanchatramvegetablemarket.net/wp-content/themes/ODCV2.1/css/jquery.dragscroll.css?ver=5.2.2\" id=\"dragscroll-css\" media=\"all\" rel=\"stylesheet\" type=\"text/css\"/>\\n<link href=\"https://oddanchatramvegetablemarket.net/wp-content/themes/ODCV2.1/css/responsive.css?ver=5.2.2\" id=\"responsive-css\" media=\"all\" rel=\"stylesheet\" type=\"text/css\"/>\\n<!--[if lt IE 8]>\\n<link rel=\\'stylesheet\\' id=\\'ie-only-styles-css\\'  href=\\'https://oddanchatramvegetablemarket.net/wp-content/themes/ODCV2.1/css/ie-ancient.css?ver=5.2.2\\' type=\\'text/css\\' media=\\'all\\' />\\n<![endif]-->\\n<link href=\"https://oddanchatramvegetablemarket.net/wp-content/themes/ODCV2.1/style.css?ver=5.2.2\" id=\"style-css\" media=\"all\" rel=\"stylesheet\" type=\"text/css\"/>\\n<link href=\"https://oddanchatramvegetablemarket.net/wp-content/themes/ODCV2.1/css/dat-menu.css?ver=5.2.2\" id=\"datmenu-css-css\" media=\"all\" rel=\"stylesheet\" type=\"text/css\"/>\\n<!-- Inline jetpack_facebook_likebox -->\\n<style id=\"jetpack_facebook_likebox-inline-css\" type=\"text/css\">\\n.widget_facebook_likebox {\\n\\toverflow: hidden;\\n}\\n\\n</style>\\n<link href=\"https://oddanchatramvegetablemarket.net/wp-content/plugins/jetpack/css/jetpack.css?ver=7.5.2\" id=\"jetpack_css-css\" media=\"all\" rel=\"stylesheet\" type=\"text/css\"/>\\n<link href=\"https://oddanchatramvegetablemarket.net/wp-content/plugins/mykraft-responsive-video-shortcode/css/shortcodes.css?ver=5.2.2\" id=\"style.rv-css\" media=\"all\" rel=\"stylesheet\" type=\"text/css\"/>\\n<script>if (document.location.protocol != \"https:\") {document.location = document.URL.replace(/^http:/i, \"https:\");}</script><script type=\"text/javascript\">\\n/* <![CDATA[ */\\nvar ot = {\"adminUrl\":\"https:\\\\/\\\\/oddanchatramvegetablemarket.net\\\\/wp-admin\\\\/admin-ajax.php\",\"gallery_id\":\"\",\"galleryCat\":\"\",\"imageUrl\":\"https:\\\\/\\\\/oddanchatramvegetablemarket.net\\\\/wp-content\\\\/themes\\\\/ODCV2.1\\\\/images\\\\/\",\"cssUrl\":\"https:\\\\/\\\\/oddanchatramvegetablemarket.net\\\\/wp-content\\\\/themes\\\\/ODCV2.1\\\\/css\\\\/\",\"themeUrl\":\"https:\\\\/\\\\/oddanchatramvegetablemarket.net\\\\/wp-content\\\\/themes\\\\/ODCV2.1\"};\\n/* ]]> */\\n</script>\\n<script src=\"https://oddanchatramvegetablemarket.net/wp-includes/js/jquery/jquery.js?ver=1.12.4-wp\" type=\"text/javascript\"></script>\\n<script src=\"https://oddanchatramvegetablemarket.net/wp-includes/js/jquery/jquery-migrate.min.js?ver=1.4.1\" type=\"text/javascript\"></script>\\n<script type=\"text/javascript\">\\n/* <![CDATA[ */\\nvar AjaxCheckClicks = {\"ajaxurl\":\"https:\\\\/\\\\/oddanchatramvegetablemarket.net\\\\/wp-admin\\\\/admin-ajax.php\",\"nonce\":\"26730969f9\"};\\n/* ]]> */\\n</script>\\n<script src=\"https://oddanchatramvegetablemarket.net/wp-content/plugins/adsense-click-fraud-monitoring-master/js/checkclicks.js?ver=5.2.2\" type=\"text/javascript\"></script>\\n<script type=\"text/javascript\">\\n/* <![CDATA[ */\\nvar AjaxUpdateClicks = {\"ajaxurl\":\"https:\\\\/\\\\/oddanchatramvegetablemarket.net\\\\/wp-admin\\\\/admin-ajax.php\",\"nonce\":\"745c051493\"};\\n/* ]]> */\\n</script>\\n<script src=\"https://oddanchatramvegetablemarket.net/wp-content/plugins/adsense-click-fraud-monitoring-master/js/updateclicks.js?ver=5.2.2\" type=\"text/javascript\"></script>\\n<script src=\"https://oddanchatramvegetablemarket.net/wp-includes/js/jquery/ui/core.min.js?ver=1.11.4\" type=\"text/javascript\"></script>\\n<script src=\"https://oddanchatramvegetablemarket.net/wp-includes/js/jquery/ui/datepicker.min.js?ver=1.11.4\" type=\"text/javascript\"></script>\\n<script type=\"text/javascript\">\\njQuery(document).ready(function(jQuery){jQuery.datepicker.setDefaults({\"closeText\":\"Close\",\"currentText\":\"Today\",\"monthNames\":[\"January\",\"February\",\"March\",\"April\",\"May\",\"June\",\"July\",\"August\",\"September\",\"October\",\"November\",\"December\"],\"monthNamesShort\":[\"Jan\",\"Feb\",\"Mar\",\"Apr\",\"May\",\"Jun\",\"Jul\",\"Aug\",\"Sep\",\"Oct\",\"Nov\",\"Dec\"],\"nextText\":\"Next\",\"prevText\":\"Previous\",\"dayNames\":[\"Sunday\",\"Monday\",\"Tuesday\",\"Wednesday\",\"Thursday\",\"Friday\",\"Saturday\"],\"dayNamesShort\":[\"Sun\",\"Mon\",\"Tue\",\"Wed\",\"Thu\",\"Fri\",\"Sat\"],\"dayNamesMin\":[\"S\",\"M\",\"T\",\"W\",\"T\",\"F\",\"S\"],\"dateFormat\":\"MM d, yy\",\"firstDay\":1,\"isRTL\":false});});\\n</script>\\n<script src=\"https://oddanchatramvegetablemarket.net/wp-content/plugins/accesspress-anonymous-post-pro/js/fileuploader.js?ver=5.2.2\" type=\"text/javascript\"></script>\\n<script src=\"https://oddanchatramvegetablemarket.net/wp-content/plugins/accesspress-anonymous-post-pro/lightbox/js/lightbox.js?ver=3.0.1\" type=\"text/javascript\"></script>\\n<script type=\"text/javascript\">\\n/* <![CDATA[ */\\nvar ap_fileuploader = {\"upload_url\":\"https:\\\\/\\\\/oddanchatramvegetablemarket.net\\\\/wp-admin\\\\/admin-ajax.php\",\"nonce\":\"60fa745d08\"};\\nvar ap_form_required_message = \"This field is required\";\\nvar ap_captcha_error_message = \"Sum is not correct.\";\\n/* ]]> */\\n</script>\\n<script src=\"https://oddanchatramvegetablemarket.net/wp-content/plugins/accesspress-anonymous-post-pro/js/frontend.js?ver=3.0.1\" type=\"text/javascript\"></script>\\n<script type=\"text/javascript\">\\n/* <![CDATA[ */\\nvar clientcfmonitor = {\"client_ip\":\"173.39.28.170\",\"clickcount\":\"2\",\"bannedperiod\":\"1\",\"preurl\":\"https:\\\\/\\\\/oddanchatramvegetablemarket.net\\\\/wp-content\\\\/plugins\\\\/adsense-click-fraud-monitoring-master\\\\/clickupdate.php\",\"firstclickdate\":[[\"\"],[\"\"]],\"updatedVisitCount\":\"0\",\"isblockedcount\":\"0\",\"customclass\":\"cfmonitor\",\"firstclick\":\"false\",\"disablead\":\"false\",\"currentURL\":\"\\\\/oddanchatram-vegetable-price-details-01052013\\\\/\"};\\n/* ]]> */\\n</script>\\n<script src=\"https://oddanchatramvegetablemarket.net/wp-content/plugins/adsense-click-fraud-monitoring-master/js/check_min.js?ver=5.2.2\" type=\"text/javascript\"></script>\\n<script src=\"https://oddanchatramvegetablemarket.net/wp-content/plugins/simple-responsive-slider/assets/js/responsiveslides.min.js?ver=5.2.2\" type=\"text/javascript\"></script>\\n<link href=\"https://oddanchatramvegetablemarket.net/wp-json/\" rel=\"https://api.w.org/\"/>\\n<link href=\"https://oddanchatramvegetablemarket.net/xmlrpc.php?rsd\" rel=\"EditURI\" title=\"RSD\" type=\"application/rsd+xml\"/>\\n<link href=\"https://oddanchatramvegetablemarket.net/wp-includes/wlwmanifest.xml\" rel=\"wlwmanifest\" type=\"application/wlwmanifest+xml\"/>\\n<link href=\"https://oddanchatramvegetablemarket.net/oddanchatram-vegetable-price-details-04272013/\" rel=\"prev\" title=\"Oddanchatram Vegetable Price Details 04/27/2013\"/>\\n<link href=\"https://oddanchatramvegetablemarket.net/oddanchatram-vegetable-price-details-03052013/\" rel=\"next\" title=\"Oddanchatram Vegetable Price Details 03/05/2013\"/>\\n<meta content=\"WordPress 5.2.2\" name=\"generator\"/>\\n<link href=\"https://wp.me/p9XqTt-2A\" rel=\"shortlink\"/>\\n<link href=\"https://oddanchatramvegetablemarket.net/wp-json/oembed/1.0/embed?url=https%3A%2F%2Foddanchatramvegetablemarket.net%2Foddanchatram-vegetable-price-details-01052013%2F\" rel=\"alternate\" type=\"application/json+oembed\"/>\\n<link href=\"https://oddanchatramvegetablemarket.net/wp-json/oembed/1.0/embed?url=https%3A%2F%2Foddanchatramvegetablemarket.net%2Foddanchatram-vegetable-price-details-01052013%2F&amp;format=xml\" rel=\"alternate\" type=\"text/xml+oembed\"/>\\n<meta content=\"192879437972707\" property=\"fb:app_id\"/> <meta content=\"534673733230439\" property=\"fb:pages\"/>\\n<meta content=\"534673733230439\" property=\"fb:pages\"/>\\n<script type=\"text/javascript\">\\r\\n\\tjQuery(document).ready(function($) {\\r\\n\\t\\t$(function() {\\r\\n\\t\\t\\t$(\".rslides\").responsiveSlides({\\r\\n\\t\\t\\t  auto: true,             // Boolean: Animate automatically, true or false\\r\\n\\t\\t\\t  speed: 500,            // Integer: Speed of the transition, in milliseconds\\r\\n\\t\\t\\t  timeout: 3000,          // Integer: Time between slide transitions, in milliseconds\\r\\n\\t\\t\\t  pager: true,           // Boolean: Show pager, true or false\\r\\n\\t\\t\\t  nav: false,             // Boolean: Show navigation, true or false\\r\\n\\t\\t\\t  random: false,          // Boolean: Randomize the order of the slides, true or false\\r\\n\\t\\t\\t  pause: false,           // Boolean: Pause on hover, true or false\\r\\n\\t\\t\\t  pauseControls: false,    // Boolean: Pause when hovering controls, true or false\\r\\n\\t\\t\\t  prevText: \"Back\",   // String: Text for the \"previous\" button\\r\\n\\t\\t\\t  nextText: \"Next\",       // String: Text for the \"next\" button\\r\\n\\t\\t\\t  maxwidth: \"635\",           // Integer: Max-width of the slideshow, in pixels\\r\\n\\t\\t\\t  navContainer: \"\",       // Selector: Where controls should be appended to, default is after the \\'ul\\'\\r\\n\\t\\t\\t  manualControls: \"\",     // Selector: Declare custom pager navigation\\r\\n\\t\\t\\t  namespace: \"rslides\",   // String: Change the default namespace used\\r\\n\\t\\t\\t  before: function(){},   // Function: Before callback\\r\\n\\t\\t\\t  after: function(){}     // Function: After callback\\r\\n\\t\\t\\t});\\r\\n\\t\\t});\\r\\n\\t });\\r\\n\\t</script>\\n<link href=\"//v0.wordpress.com\" rel=\"dns-prefetch\"/>\\n<style type=\"text/css\">img#wpstats{display:none}</style>\\n<!-- Jetpack Open Graph Tags -->\\n<meta content=\"article\" property=\"og:type\"/>\\n<meta content=\"Oddanchatram Vegetable Price Details 01/05/2013\" property=\"og:title\"/>\\n<meta content=\"https://oddanchatramvegetablemarket.net/oddanchatram-vegetable-price-details-01052013/\" property=\"og:url\"/>\\n<meta content=\"S.No Commodity /\\xa0சரக்கு\\xa0 \\xa0Weight /\\xa0கிலோ\\xa0 \\xa0Price /\\xa0விலை\\xa0 \\xa01 Avarai Belt / அவரை (பெல்ட்) \\xa01 \\xa040 \\xa02 Avarai Kolee /\\xa0அவரை (கோலி) \\xa01 \\xa039 \\xa03 Avarai ottu \\xa0/\\xa0அவரை (ஒட்டு) \\xa01 \\xa036 \\xa04 Beans /\\xa0பீன்ஸ் \\xa01 \\xa050 \\xa05 …\" property=\"og:description\"/>\\n<meta content=\"2013-05-01T09:14:11+00:00\" property=\"article:published_time\"/>\\n<meta content=\"2013-05-01T09:14:11+00:00\" property=\"article:modified_time\"/>\\n<meta content=\"Oddanchatram Vegetable Market News, Tamilnadu\" property=\"og:site_name\"/>\\n<meta content=\"https://s0.wp.com/i/blank.jpg\" property=\"og:image\"/>\\n<meta content=\"en_US\" property=\"og:locale\"/>\\n<meta content=\"Oddanchatram Vegetable Price Details 01/05/2013\" name=\"twitter:text:title\"/>\\n<meta content=\"summary\" name=\"twitter:card\"/>\\n<!-- End Jetpack Open Graph Tags -->\\n<!-- BEGIN ExactMetrics v5.3.8 Universal Analytics - https://exactmetrics.com/ -->\\n<script>\\n(function(i,s,o,g,r,a,m){i[\\'GoogleAnalyticsObject\\']=r;i[r]=i[r]||function(){\\n\\t(i[r].q=i[r].q||[]).push(arguments)},i[r].l=1*new Date();a=s.createElement(o),\\n\\tm=s.getElementsByTagName(o)[0];a.async=1;a.src=g;m.parentNode.insertBefore(a,m)\\n})(window,document,\\'script\\',\\'https://www.google-analytics.com/analytics.js\\',\\'ga\\');\\n  ga(\\'create\\', \\'UA-122221026-1\\', \\'auto\\');\\n  ga(\\'send\\', \\'pageview\\');\\n</script>\\n<!-- END ExactMetrics Universal Analytics -->\\n<style>\\n\\t\\t\\n\\t\\t\\t/* Color Scheme */\\n\\t\\t\\t.header,.breaking-news .the-title,.widget > h3,.button,a.small-button,.marker,.hover-effect,.block-title,#wp-calendar td#today, .small-button, #writecomment p input[type=submit] {\\n\\t\\t\\t\\tbackground-color: #5A9E25;\\n\\t\\t\\t}\\n\\n\\t\\t\\t.list-title, a:hover, a.mobile-menu, .widget .meta a { color: #5A9E25; }\\n\\t\\t\\t.list-title { border-bottom: 2px solid #5A9E25;\\t}\\n\\n\\t\\t\\t\\n\\n\\t\\t\\t/* Menu Font */\\n\\t\\t\\t.main-menu .the-menu li a, .secondary-menu ul li a { font-family:\"Titillium Web\", sans-serif; }\\n\\t\\t\\t/* Block Titles */\\n\\t\\t\\t.list-title { font-family:\"Titillium Web\", sans-serif; }\\n\\t\\t\\t/* Article Titles */\\n\\t\\t\\th1, h2, h3,\\th4, h5, h6 { font-family: \\'Source Sans Pro\\', sans-serif; }\\n\\t\\t</style>\\n<!-- END head -->\\n<!-- BEGIN body -->\\n<!-- BEGIN .boxed -->\\n<div class=\"boxed\">\\n<!-- BEGIN .header -->\\n<div class=\"header\">\\n<div class=\"header\" style=\"background-image:url(\\'https://oddanchatramvegetablemarket.net/wp-content/uploads/2017/12/K1600_veg.jpg\\');\">\\n<!-- BEGIN .wrapper -->\\n<div class=\"wrapper\">\\n<div class=\"header-logo\">\\n<a href=\"https://oddanchatramvegetablemarket.net\"><img alt=\"Oddanchatram Vegetable Market News, Tamilnadu\" src=\"https://oddanchatramvegetablemarket.net/wp-content/uploads/2017/12/asd.png\"/></a>\\n</div>\\n<div class=\"header-menu\">\\n<ul class=\"load-responsive\" rel=\"Top Menu\"><li class=\"menu-item menu-item-type-post_type menu-item-object-page menu-item-5171\" id=\"menu-item-5171\"><a href=\"https://oddanchatramvegetablemarket.net/about-market/\">About Gandhi Market</a></li>\\n<li class=\"menu-item menu-item-type-post_type menu-item-object-page menu-item-5352\" id=\"menu-item-5352\"><a href=\"https://oddanchatramvegetablemarket.net/add/\">Add Business (FREE)</a></li>\\n<li class=\"menu-item menu-item-type-post_type menu-item-object-page menu-item-6892\" id=\"menu-item-6892\"><a href=\"https://oddanchatramvegetablemarket.net/buy-sell/\">Buy Sell</a></li>\\n</ul> </div>\\n<div class=\"header-addons\">\\n<div class=\"header-search\">\\n<form action=\"https://oddanchatramvegetablemarket.net\" method=\"get\" name=\"searchform\">\\n<input class=\"search-input\" id=\"s\" name=\"s\" placeholder=\"Search something..\" type=\"text\" value=\"\"/>\\n<input class=\"search-button\" type=\"submit\" value=\"Search\"/>\\n</form>\\n</div>\\n</div>\\n<!-- END .wrapper -->\\n</div>\\n</div>\\n<div class=\"main-menu sticky\">\\n<!-- BEGIN .wrapper -->\\n<div class=\"wrapper\">\\n<ul class=\"the-menu transition-active menu load-responsive\" rel=\"Main Menu\"><li class=\"menu-item menu-item-type-custom menu-item-object-custom menu-item-home\" id=\"menu-item-5350\"><a href=\"https://oddanchatramvegetablemarket.net/\">Home</a></li>\\n<li class=\"menu-item menu-item-type-taxonomy menu-item-object-category current-post-ancestor current-menu-parent current-post-parent\" id=\"menu-item-1546\"><a href=\"https://oddanchatramvegetablemarket.net/category/oddanchatram-vegetable-price/\">Oddanchatram Gandhi Market Vegetable Price</a></li>\\n<li class=\"menu-item menu-item-type-taxonomy menu-item-object-category\" id=\"menu-item-1547\"><a href=\"https://oddanchatramvegetablemarket.net/category/dindigul-vegetable-price/\">Dindigul Vegetable Price</a></li>\\n<li class=\"menu-item menu-item-type-taxonomy menu-item-object-category\" id=\"menu-item-2285\"><a href=\"https://oddanchatramvegetablemarket.net/category/coconut-market-price/\">Coconut Market Price</a></li>\\n<li class=\"menu-item menu-item-type-taxonomy menu-item-object-category\" id=\"menu-item-5351\"><a href=\"https://oddanchatramvegetablemarket.net/category/oddanchatram-vegetable-wholesalers/\">Oddanchatram Market Wholesalers</a></li>\\n<li class=\"menu-item menu-item-type-taxonomy menu-item-object-category\" id=\"menu-item-2852\"><a href=\"https://oddanchatramvegetablemarket.net/category/chennai-vegetable-wholesalers/\">Chennai Market Wholesalers</a></li>\\n</ul>\\n<!-- END .wrapper -->\\n</div>\\n</div>\\n<!-- END .header -->\\n</div>\\n<!-- BEGIN .content -->\\n<div class=\"content\">\\n<!-- BEGIN .wrapper -->\\n<div class=\"wrapper\">\\n<div class=\"main-content\">\\n<div class=\"full-width\">\\n<div class=\"article-title\">\\n<div class=\"share-block right\">\\n<div>\\n<div class=\"share-article left\">\\n<span>Social media</span>\\n<strong>Share this article</strong>\\n</div>\\n<div class=\"left\">\\n<a class=\"custom-soc icon-text ot-share\" data-url=\"https://oddanchatramvegetablemarket.net/oddanchatram-vegetable-price-details-01052013/\" href=\"http://www.facebook.com/sharer/sharer.php?u=https://oddanchatramvegetablemarket.net/oddanchatram-vegetable-price-details-01052013/\">\\uf30c</a>\\n<a class=\"ot-tweet custom-soc icon-text\" data-hashtags=\"\" data-text=\"Oddanchatram Vegetable Price Details 01/05/2013\" data-url=\"https://oddanchatramvegetablemarket.net/oddanchatram-vegetable-price-details-01052013/\" data-via=\"odcmarket\" href=\"#\">\\uf309</a>\\n<a class=\"custom-soc icon-text ot-pluss\" href=\"https://plus.google.com/share?url=https://oddanchatramvegetablemarket.net/oddanchatram-vegetable-price-details-01052013/\">\\uf30f</a>\\n<a class=\"ot-pin custom-soc icon-text\" data-url=\"https://oddanchatramvegetablemarket.net/oddanchatram-vegetable-price-details-01052013/\" href=\"http://pinterest.com/pin/create/button/?url=https://oddanchatramvegetablemarket.net/oddanchatram-vegetable-price-details-01052013/&amp;media=https://oddanchatramvegetablemarket.net/wp-content/themes/ODCV2.1/images/no-image-0x0.jpg&amp;description=Oddanchatram Vegetable Price Details 01/05/2013\">\\uf312</a>\\n<a class=\"ot-link custom-soc icon-text\" data-url=\"https://oddanchatramvegetablemarket.net/oddanchatram-vegetable-price-details-01052013/\" href=\"http://www.linkedin.com/shareArticle?mini=true&amp;url=https://oddanchatramvegetablemarket.net/oddanchatram-vegetable-price-details-01052013/&amp;title=Oddanchatram Vegetable Price Details 01/05/2013\">\\uf318</a>\\n</div>\\n<div class=\"clear-float\"></div>\\n</div>\\n<div>\\n</div>\\n</div>\\n<h1>Oddanchatram Vegetable Price Details 01/05/2013</h1>\\n</div>\\n</div>\\n<!-- BEGIN .main-page -->\\n<div class=\"main-page left\">\\n<!-- BEGIN .single-block -->\\n<div class=\"single-block\">\\n<!-- BEGIN .content-block -->\\n<div class=\"content-block main left\">\\n<div class=\"block\">\\n<div class=\"block-content post-160 post type-post status-publish format-standard hentry category-oddanchatram-vegetable-price tag-oddanchatram-vegetable-price-details-01052013\">\\n<div class=\"shortcode-content\">\\n<div class=\"paragraph-row\">\\n<div class=\"column12\">\\n<!-- WP QUADS Content Ad Plugin v. 1.8.6 -->\\n<div class=\"quads-location quads-ad1\" id=\"quads-ad1\" style=\"float:none;margin:0px;\">\\n<div class=\"cfmonitor\"><script async=\"\" src=\"//pagead2.googlesyndication.com/pagead/js/adsbygoogle.js\"></script>\\n<!-- Oddan.net Footer -->\\n<ins class=\"adsbygoogle\" data-ad-client=\"ca-pub-8502141479774224\" data-ad-format=\"auto\" data-ad-slot=\"8796716993\" style=\"display:block\"></ins>\\n<script>\\r\\n(adsbygoogle = window.adsbygoogle || []).push({});\\r\\n</script></div>\\n</div>\\n<table border=\"1\" cellpadding=\"0\" width=\"650\">\\n<tbody>\\n<tr>\\n<td>\\n<p align=\"center\"><b>S.No</b></p>\\n</td>\\n<td valign=\"bottom\"><b>Commodity /\\xa0சரக்கு\\xa0</b></td>\\n<td><strong>\\xa0Weight /\\xa0கிலோ\\xa0</strong></td>\\n<td>\\xa0<b>Price /\\xa0விலை\\xa0</b></td>\\n</tr>\\n<tr>\\n<td>\\n<p align=\"center\"><b>\\xa01</b></p>\\n</td>\\n<td valign=\"bottom\">\\n<p align=\"center\">Avarai Belt / அவரை (பெல்ட்)</p>\\n</td>\\n<td>\\xa01</td>\\n<td>\\xa040</td>\\n</tr>\\n<tr>\\n<td>\\n<p align=\"center\"><b>\\xa02</b></p>\\n</td>\\n<td valign=\"bottom\">\\n<p align=\"center\">Avarai Kolee /\\xa0அவரை (கோலி)</p>\\n</td>\\n<td>\\xa01</td>\\n<td>\\xa039</td>\\n</tr>\\n<tr>\\n<td>\\n<p align=\"center\"><b>\\xa03</b></p>\\n</td>\\n<td valign=\"bottom\">\\n<p align=\"center\">Avarai ottu \\xa0/\\xa0அவரை (ஒட்டு)</p>\\n</td>\\n<td>\\xa01</td>\\n<td>\\xa036</td>\\n</tr>\\n<tr>\\n<td>\\n<p align=\"center\"><b>\\xa04</b></p>\\n</td>\\n<td valign=\"bottom\">\\n<p align=\"center\">Beans /\\xa0பீன்ஸ்</p>\\n</td>\\n<td>\\xa01</td>\\n<td>\\xa050</td>\\n</tr>\\n<tr>\\n<td>\\n<p align=\"center\"><b>\\xa05</b></p>\\n</td>\\n<td valign=\"bottom\">\\n<p align=\"center\">Beetroot /\\xa0பீட்ரூட்</p>\\n</td>\\n<td>\\xa01</td>\\n<td>\\xa021</td>\\n</tr>\\n<tr>\\n<td>\\n<p align=\"center\"><b>\\xa06</b></p>\\n</td>\\n<td valign=\"bottom\">\\n<p align=\"center\">Bellary /\\xa0பெல்லாரி</p>\\n</td>\\n<td>\\xa01</td>\\n<td>\\xa014</td>\\n</tr>\\n<tr>\\n<td>\\n<p align=\"center\"><b>\\xa07</b></p>\\n</td>\\n<td valign=\"bottom\">\\n<p align=\"center\">C Flower /\\xa0காளிபிளவர்</p>\\n</td>\\n<td>\\xa01Flower</td>\\n<td>\\xa021</td>\\n</tr>\\n<tr>\\n<td>\\n<p align=\"center\"><b>\\xa08</b></p>\\n</td>\\n<td valign=\"bottom\">\\n<p align=\"center\">C Vengayam /\\xa0சின்னவெங்காயம்</p>\\n</td>\\n<td>\\xa01</td>\\n<td>\\xa050</td>\\n</tr>\\n<tr>\\n<td>\\n<p align=\"center\"><b>\\xa09</b></p>\\n</td>\\n<td valign=\"bottom\">\\n<p align=\"center\">Chaw Chaw /\\xa0சவ்சவ்</p>\\n</td>\\n<td>\\xa01</td>\\n<td>\\xa024</td>\\n</tr>\\n<tr>\\n<td>\\n<p align=\"center\"><b>\\xa010</b></p>\\n</td>\\n<td valign=\"bottom\">\\n<p align=\"center\">Kaththari Disco /\\xa0கத்தரி(டிஸ்கோ)</p>\\n</td>\\n<td>\\xa01</td>\\n<td>\\xa014</td>\\n</tr>\\n<tr>\\n<td>\\n<p align=\"center\"><b>\\xa011</b></p>\\n</td>\\n<td valign=\"bottom\">\\n<p align=\"center\">Kaththari Green /\\xa0கத்தரி(பச்சை)</p>\\n</td>\\n<td>\\xa01</td>\\n<td>\\xa016</td>\\n</tr>\\n<tr>\\n<td>\\n<p align=\"center\"><b>\\xa012</b></p>\\n</td>\\n<td valign=\"bottom\">\\n<p align=\"center\">Kothavarai /\\xa0கொத்தவரை</p>\\n</td>\\n<td>\\xa01</td>\\n<td>\\xa018</td>\\n</tr>\\n<tr>\\n<td>\\n<p align=\"center\"><b>\\xa013</b></p>\\n</td>\\n<td valign=\"bottom\">\\n<p align=\"center\">Milagai Sambar \\xa0/\\xa0மிளகாய்(சாம்பார்)</p>\\n</td>\\n<td>\\xa01</td>\\n<td>\\xa039</td>\\n</tr>\\n<tr>\\n<td>\\n<p align=\"center\"><b>\\xa014</b></p>\\n</td>\\n<td valign=\"bottom\">\\n<p align=\"center\">Milagai urundai /\\xa0மிளகாய்(உருண்டை)</p>\\n</td>\\n<td>\\xa01</td>\\n<td>\\xa067</td>\\n</tr>\\n<tr>\\n<td>\\n<p align=\"center\"><b>\\xa015</b></p>\\n</td>\\n<td valign=\"bottom\">\\n<p align=\"center\">Mullaingi /\\xa0முள்ளங்கி</p>\\n</td>\\n<td>\\xa01</td>\\n<td>\\xa05</td>\\n</tr>\\n<tr>\\n<td>\\n<p align=\"center\"><b>\\xa016</b></p>\\n</td>\\n<td valign=\"bottom\">\\n<p align=\"center\">Murungai chedi /\\xa0முருங்கை(செடி)</p>\\n</td>\\n<td>\\xa01</td>\\n<td>\\xa015</td>\\n</tr>\\n<tr>\\n<td>\\n<p align=\"center\"><b>\\xa017</b></p>\\n</td>\\n<td valign=\"bottom\">\\n<p align=\"center\">Murungai Maram /\\xa0முருங்கை(மரம்)</p>\\n</td>\\n<td>\\xa01</td>\\n<td>\\xa017</td>\\n</tr>\\n<tr>\\n<td>\\n<p align=\"center\"><b>\\xa018</b></p>\\n</td>\\n<td valign=\"bottom\">\\n<p align=\"center\">Nelli /\\xa0நெல்லி</p>\\n</td>\\n<td>\\xa01</td>\\n<td>\\xa015</td>\\n</tr>\\n<tr>\\n<td>\\n<p align=\"center\"><b>\\xa019</b></p>\\n</td>\\n<td valign=\"bottom\">\\n<p align=\"center\">Pavarkai /\\xa0பாகற்காய்</p>\\n</td>\\n<td>\\xa01</td>\\n<td>\\xa020</td>\\n</tr>\\n<tr>\\n<td>\\n<p align=\"center\"><b>\\xa020</b></p>\\n</td>\\n<td valign=\"bottom\">\\n<p align=\"center\">Perkangkai /\\xa0பீர்க்கங்காய்</p>\\n</td>\\n<td>\\xa01</td>\\n<td>\\xa010</td>\\n</tr>\\n<tr>\\n<td>\\n<p align=\"center\"><b>\\xa021</b></p>\\n</td>\\n<td valign=\"bottom\">\\n<p align=\"center\">Pudalai /\\xa0புடலங்காய்</p>\\n</td>\\n<td>\\xa01</td>\\n<td>\\xa012</td>\\n</tr>\\n<tr>\\n<td>\\n<p align=\"center\"><b>\\xa022</b></p>\\n</td>\\n<td valign=\"bottom\">\\n<p align=\"center\">Red Pusanikkai /\\xa0சிகப்பு பூசணிக்காய்</p>\\n</td>\\n<td>\\xa01</td>\\n<td>\\xa09</td>\\n</tr>\\n<tr>\\n<td>\\n<p align=\"center\"><b>\\xa023</b></p>\\n</td>\\n<td valign=\"bottom\">\\n<p align=\"center\">Sambar Vellari /\\xa0சாம்பார் வெள்ளரி</p>\\n</td>\\n<td>\\xa01</td>\\n<td>\\xa09</td>\\n</tr>\\n<tr>\\n<td>\\n<p align=\"center\"><b>\\xa024</b></p>\\n</td>\\n<td valign=\"bottom\">\\n<p align=\"center\">Suraikai /\\xa0சுரைக்காய்</p>\\n</td>\\n<td>\\xa01</td>\\n<td>\\xa06</td>\\n</tr>\\n<tr>\\n<td>\\n<p align=\"center\"><b>\\xa025</b></p>\\n</td>\\n<td valign=\"bottom\">\\n<p align=\"center\">Thakkali /\\xa0தக்காளி</p>\\n</td>\\n<td>\\xa01</td>\\n<td>\\xa018</td>\\n</tr>\\n<tr>\\n<td>\\n<p align=\"center\"><b>\\xa026</b></p>\\n</td>\\n<td valign=\"bottom\">\\n<p align=\"center\">Thatta payaru /\\xa0தட்டப்பயிறு</p>\\n</td>\\n<td>\\xa01</td>\\n<td>\\xa018</td>\\n</tr>\\n<tr>\\n<td>\\n<p align=\"center\"><b>\\xa027</b></p>\\n</td>\\n<td valign=\"bottom\">\\n<p align=\"center\">Vendai /\\xa0வெண்டைக்காய்</p>\\n</td>\\n<td>\\xa01</td>\\n<td>\\xa017</td>\\n</tr>\\n</tbody>\\n</table>\\n<div class=\"widget-9 awac-wrapper\"><div class=\"widget-9 awac widget text-39\"> <div class=\"textwidget\"><hr/>\\n</div>\\n</div></div> <div class=\"widget-10 awac-wrapper\"><div class=\"widget-10 awac widget wp_subscribe-3\">\\n<div class=\"wp-subscribe-wrap wp-subscribe wp-subscribe-5\" data-thanks_page=\"0\" data-thanks_page_new_window=\"0\" data-thanks_page_url=\"\" id=\"wp-subscribe\">\\n<h4 class=\"title\">Get Daily Market Price</h4>\\n<p class=\"text\">Subscribe to our mailing list and get all Market Price updates to your email inbox.</p>\\n<form action=\"https://feedburner.google.com/fb/a/mailverify?uri=OddanchatramVegetableMarketPricedetails\" class=\"wp-subscribe-form wp-subscribe-feedburner\" id=\"wp-subscribe-form-5\" method=\"post\" target=\"popupwindow\">\\n<input class=\"regular-text email-field\" name=\"email\" placeholder=\"Enter your email here\" required=\"\" type=\"email\"/>\\n<input name=\"uri\" type=\"hidden\" value=\"OddanchatramVegetableMarketPricedetails\"/>\\n<input name=\"loc\" type=\"hidden\" value=\"en_US\"/>\\n<input name=\"form_type\" type=\"hidden\" value=\"widget\"/>\\n<input name=\"service\" type=\"hidden\" value=\"feedburner\"/>\\n<input name=\"widget\" type=\"hidden\" value=\"wp_subscribe-3\"/>\\n<div class=\"wps-consent-wrapper\">\\n<label for=\"consent-field\">\\n<input class=\"consent-field\" id=\"consent-field\" name=\"consent\" required=\"\" type=\"checkbox\"/>\\n\\t\\t\\t\\t\\t\\tI consent to my submitted data being collected via this form*\\t\\t\\t\\t\\t</label>\\n</div>\\n<input class=\"submit\" name=\"submit\" type=\"submit\" value=\"Subscribe\"/>\\n</form>\\n<div class=\"wp-subscribe-loader\">\\n<svg height=\"40px\" id=\"loader-1\" style=\"enable-background:new 0 0 50 50;\" version=\"1.1\" viewbox=\"0 0 50 50\" width=\"40px\" x=\"0\" xml:space=\"preserve\" xmlns=\"http://www.w3.org/2000/svg\" xmlns:xlink=\"http://www.w3.org/1999/xlink\" y=\"0\">\\n<path d=\"M43.935,25.145c0-10.318-8.364-18.683-18.683-18.683c-10.318,0-18.683,8.365-18.683,18.683h4.068c0-8.071,6.543-14.615,14.615-14.615c8.072,0,14.615,6.543,14.615,14.615H43.935z\" fill=\"#ffffff\">\\n<animatetransform attributename=\"transform\" attributetype=\"xml\" dur=\"0.6s\" from=\"0 25 25\" repeatcount=\"indefinite\" to=\"360 25 25\" type=\"rotate\"></animatetransform>\\n</path>\\n</svg>\\n</div>\\n<p class=\"thanks\">Thank you for subscribing.</p>\\n<p class=\"error\">Something went wrong.</p>\\n<div class=\"clear\"></div>\\n<p class=\"footer-text\">we respect your privacy and take protecting it seriously</p>\\n</div>\\n</div></div>\\n<!-- Facebook Comments Plugin for WordPress: http://peadig.com/wordpress-plugins/facebook-comments/ --><h3><br/>Start Discussion </h3><div class=\"fb-comments\" data-colorscheme=\"light\" data-href=\"https://oddanchatramvegetablemarket.net/oddanchatram-vegetable-price-details-01052013/\" data-numposts=\"5\" data-width=\"100%\"></div>\\n</div>\\n</div>\\n<div class=\"article-title\">\\n<div class=\"share-block right\">\\n<div>\\n<div class=\"share-article left\">\\n<span>Social media</span>\\n<strong>Share this article</strong>\\n</div>\\n<div class=\"left\">\\n<a class=\"custom-soc icon-text ot-share\" data-url=\"https://oddanchatramvegetablemarket.net/oddanchatram-vegetable-price-details-01052013/\" href=\"http://www.facebook.com/sharer/sharer.php?u=https://oddanchatramvegetablemarket.net/oddanchatram-vegetable-price-details-01052013/\">\\uf30c</a>\\n<a class=\"ot-tweet custom-soc icon-text\" data-hashtags=\"\" data-text=\"Oddanchatram Vegetable Price Details 01/05/2013\" data-url=\"https://oddanchatramvegetablemarket.net/oddanchatram-vegetable-price-details-01052013/\" data-via=\"odcmarket\" href=\"#\">\\uf309</a>\\n<a class=\"custom-soc icon-text ot-pluss\" href=\"https://plus.google.com/share?url=https://oddanchatramvegetablemarket.net/oddanchatram-vegetable-price-details-01052013/\">\\uf30f</a>\\n<a class=\"ot-pin custom-soc icon-text\" data-url=\"https://oddanchatramvegetablemarket.net/oddanchatram-vegetable-price-details-01052013/\" href=\"http://pinterest.com/pin/create/button/?url=https://oddanchatramvegetablemarket.net/oddanchatram-vegetable-price-details-01052013/&amp;media=https://oddanchatramvegetablemarket.net/wp-content/themes/ODCV2.1/images/no-image-0x0.jpg&amp;description=Oddanchatram Vegetable Price Details 01/05/2013\">\\uf312</a>\\n<a class=\"ot-link custom-soc icon-text\" data-url=\"https://oddanchatramvegetablemarket.net/oddanchatram-vegetable-price-details-01052013/\" href=\"http://www.linkedin.com/shareArticle?mini=true&amp;url=https://oddanchatramvegetablemarket.net/oddanchatram-vegetable-price-details-01052013/&amp;title=Oddanchatram Vegetable Price Details 01/05/2013\">\\uf318</a>\\n</div>\\n<div class=\"clear-float\"></div>\\n</div>\\n<div>\\n</div>\\n</div>\\n<div class=\"author\">\\n<span class=\"hover-effect left\">\\n<img alt=\"Nathan\" src=\"\"/>\\n</span>\\n<div class=\"a-content\">\\n<span>By <b>Nathan</b></span>\\n<span class=\"meta\">\\r\\n\\t\\t\\t\\tMay 1, 2013 09:14\\t\\t\\t\\t\\t\\t\\t</span>\\n</div>\\n</div>\\n<div class=\"article-tags tag-cloud\">\\n<strong>TAGS:</strong>\\n<a href=\"https://oddanchatramvegetablemarket.net/tag/oddanchatram-vegetable-price-details-01052013/\">Oddanchatram Vegetable Price Details 01/05/2013</a> </div>\\n</div>\\n</div>\\n</div>\\n<div class=\"block-title\">\\n<a class=\"right\" href=\"#respond\">Write a comment</a>\\n<h2>No Comments</h2>\\n</div>\\n<div class=\"block-content\">\\n<div class=\"comment-block\">\\n<div class=\"no-comment-block\">\\n<span class=\"icon-text big-icon\">\\ue720</span>\\n<b>No Comments Yet!</b>\\n<p>Let me tell You a sad story ! There are no comments yet, but You can be first one to comment this article.</p>\\n<a class=\"icon-link\" href=\"#respond\"><span class=\"icon-text\">\\ue712</span>Write a comment</a>\\n</div>\\n</div>\\n</div>\\n<div class=\"block-title\">\\n<a class=\"right\" href=\"#comments\">View comments</a>\\n<h2>Write a comment</h2>\\n</div>\\n<div class=\"block-content\">\\n<div id=\"writecomment\">\\n<a href=\"#\" name=\"respond\"></a>\\n<div class=\"comment-respond\" id=\"respond\">\\n<h3 class=\"comment-reply-title\" id=\"reply-title\"> <small><a href=\"/oddanchatram-vegetable-price-details-01052013/#respond\" id=\"cancel-comment-reply-link\" rel=\"nofollow\" style=\"display:none;\">Click here to cancel reply.</a></small></h3> <form action=\"https://oddanchatramvegetablemarket.net/wp-comments-post.php\" class=\"comment-form\" id=\"writecomment\" method=\"post\">\\n<p>Your e-mail address will not be published.<br/>Required fields are marked<span class=\"required\">*</span></p><p class=\"contact-form-message\"><label for=\"c_message\">Comment<span class=\"required\">*</span></label><textarea id=\"comment\" name=\"comment\" placeholder=\"Your message..\"></textarea></p><p class=\"contact-form-user\"><label for=\"c_name\">Nickname<span class=\"required\">*</span></label><input id=\"author\" name=\"author\" placeholder=\"Nickname..\" type=\"text\"/></p>\\n<p class=\"contact-form-email\"><label for=\"c_email\">E-mail<span class=\"required\">*</span></label><input id=\"email\" name=\"email\" placeholder=\"E-mail..\" type=\"text\"/></p>\\n<p class=\"contact-form-webside\"><label for=\"c_webside\">Website</label><input id=\"url\" name=\"url\" placeholder=\"Website..\" type=\"text\"/></p>\\n<p class=\"comment-subscription-form\"><input id=\"subscribe_comments\" name=\"subscribe_comments\" style=\"width: auto; -moz-appearance: checkbox; -webkit-appearance: checkbox;\" type=\"checkbox\" value=\"subscribe\"/> <label class=\"subscribe-label\" for=\"subscribe_comments\" id=\"subscribe-label\">Notify me of follow-up comments by email.</label></p><p class=\"comment-subscription-form\"><input id=\"subscribe_blog\" name=\"subscribe_blog\" style=\"width: auto; -moz-appearance: checkbox; -webkit-appearance: checkbox;\" type=\"checkbox\" value=\"subscribe\"/> <label class=\"subscribe-label\" for=\"subscribe_blog\" id=\"subscribe-blog-label\">Notify me of new posts by email.</label></p><p class=\"form-submit\"><input class=\"submit\" id=\"submit\" name=\"submit\" type=\"submit\" value=\"Post a Comment\"/> <input id=\"comment_post_ID\" name=\"comment_post_ID\" type=\"hidden\" value=\"160\"/>\\n<input id=\"comment_parent\" name=\"comment_parent\" type=\"hidden\" value=\"0\"/>\\n</p><p style=\"display: none;\"><input id=\"akismet_comment_nonce\" name=\"akismet_comment_nonce\" type=\"hidden\" value=\"184352a29d\"/></p><p style=\"display: none;\"><input id=\"ak_js\" name=\"ak_js\" type=\"hidden\" value=\"102\"/></p> </form>\\n</div><!-- #respond -->\\n<p class=\"akismet_comment_form_privacy_notice\">This site uses Akismet to reduce spam. <a href=\"https://akismet.com/privacy/\" rel=\"nofollow noopener\" target=\"_blank\">Learn how your comment data is processed</a>.</p> </div>\\n</div>\\n</div>\\n<!-- END .content-block -->\\n</div>\\n<!-- END .single-block -->\\n</div>\\n<!-- END .main-page -->\\n</div>\\n<!-- BEGIN .sidebar-content -->\\n<div class=\"main-sidebar right\">\\n<div class=\"widget-1 first widget\"> <div class=\"textwidget\"><div class=\"fb-page\" data-adapt-container-width=\"true\" data-hide-cover=\"false\" data-href=\"https://www.facebook.com/odcmarket\" data-show-facepile=\"true\" data-small-header=\"false\" data-width=\"300\">\\n<blockquote cite=\"https://www.facebook.com/odcmarket\" class=\"fb-xfbml-parse-ignore\"><p><a href=\"https://www.facebook.com/odcmarket\">Oddanchatram Vegetable Market</a></p></blockquote>\\n</div>\\n</div>\\n</div>\\n<div class=\"widget-2 widget\"> <h3 style=\"background: #5A9E25;\">Oddanchatram Market Price</h3>\\n<div class=\"widget-articles\">\\n<ul>\\n<li>\\n<div class=\"article-photo\">\\n<a class=\"hover-effect\" href=\"https://oddanchatramvegetablemarket.net/oddanchatram-vegetable-market-price-details-8-8-2019/\">\\n<img alt=\"Oddanchatram Vegetable Market Price Details 8/8/2019\" class=\"image-border\" src=\"https://oddanchatramvegetablemarket.net/wp-content/uploads/2019/08/Oddanchatram-Vegetable-Market-Images-1-2-59x42.jpg\"/> </a>\\n</div>\\n<div class=\"article-content\">\\n<h4>\\n<a href=\"https://oddanchatramvegetablemarket.net/oddanchatram-vegetable-market-price-details-8-8-2019/\">Oddanchatram Vegetable Market Price Details 8/8/2019</a>\\n<a class=\"h-comment\" href=\"https://oddanchatramvegetablemarket.net/oddanchatram-vegetable-market-price-details-8-8-2019/#comments\">0</a>\\n</h4>\\n</div>\\n</li>\\n<li>\\n<div class=\"article-photo\">\\n<a class=\"hover-effect\" href=\"https://oddanchatramvegetablemarket.net/oddanchatram-vegetable-market-price-details-7-8-2019/\">\\n<img alt=\"Oddanchatram Vegetable Market Price Details 7/8/2019\" class=\"image-border\" src=\"https://oddanchatramvegetablemarket.net/wp-content/uploads/2019/08/Oddanchatram-Vegetable-Market-Images-4-2-59x42.jpg\"/> </a>\\n</div>\\n<div class=\"article-content\">\\n<h4>\\n<a href=\"https://oddanchatramvegetablemarket.net/oddanchatram-vegetable-market-price-details-7-8-2019/\">Oddanchatram Vegetable Market Price Details 7/8/2019</a>\\n<a class=\"h-comment\" href=\"https://oddanchatramvegetablemarket.net/oddanchatram-vegetable-market-price-details-7-8-2019/#comments\">0</a>\\n</h4>\\n</div>\\n</li>\\n<li>\\n<div class=\"article-photo\">\\n<a class=\"hover-effect\" href=\"https://oddanchatramvegetablemarket.net/oddanchatram-vegetable-market-price-details-6-8-2019/\">\\n<img alt=\"Oddanchatram Vegetable Market Price Details 6/8/2019\" class=\"image-border\" src=\"https://oddanchatramvegetablemarket.net/wp-content/uploads/2019/08/Oddanchatram-Vegetable-Market-Images-2-59x42.jpg\"/> </a>\\n</div>\\n<div class=\"article-content\">\\n<h4>\\n<a href=\"https://oddanchatramvegetablemarket.net/oddanchatram-vegetable-market-price-details-6-8-2019/\">Oddanchatram Vegetable Market Price Details 6/8/2019</a>\\n<a class=\"h-comment\" href=\"https://oddanchatramvegetablemarket.net/oddanchatram-vegetable-market-price-details-6-8-2019/#comments\">0</a>\\n</h4>\\n</div>\\n</li>\\n</ul>\\n</div>\\n</div>\\n<div class=\"widget-3 widget\"> <h3 style=\"background: #5A9E25;\">Latest Coconut Market Price</h3>\\n<div class=\"widget-articles\">\\n<ul>\\n<li>\\n<div class=\"article-photo\">\\n<a class=\"hover-effect\" href=\"https://oddanchatramvegetablemarket.net/coconut-market-price-tamilnadu-22122016/\">\\n<img alt=\"Coconut Market Price Tamilnadu 22/12/2016\" class=\"image-border\" src=\"https://oddanchatramvegetablemarket.net/wp-content/uploads/2016/03/semi-husked-coconut-678582-2-59x42.jpg\"/> </a>\\n</div>\\n<div class=\"article-content\">\\n<h4>\\n<a href=\"https://oddanchatramvegetablemarket.net/coconut-market-price-tamilnadu-22122016/\">Coconut Market Price Tamilnadu 22/12/2016</a>\\n<a class=\"h-comment\" href=\"https://oddanchatramvegetablemarket.net/coconut-market-price-tamilnadu-22122016/#comments\">23</a>\\n</h4>\\n</div>\\n</li>\\n<li>\\n<div class=\"article-photo\">\\n<a class=\"hover-effect\" href=\"https://oddanchatramvegetablemarket.net/coconut-market-price-tamilnadu-23112016/\">\\n<img alt=\"Coconut Market Price Tamilnadu 23/11/2016\" class=\"image-border\" src=\"https://oddanchatramvegetablemarket.net/wp-content/uploads/2016/03/semi-husked-coconut-678582-2-59x42.jpg\"/> </a>\\n</div>\\n<div class=\"article-content\">\\n<h4>\\n<a href=\"https://oddanchatramvegetablemarket.net/coconut-market-price-tamilnadu-23112016/\">Coconut Market Price Tamilnadu 23/11/2016</a>\\n<a class=\"h-comment\" href=\"https://oddanchatramvegetablemarket.net/coconut-market-price-tamilnadu-23112016/#comments\">10</a>\\n</h4>\\n</div>\\n</li>\\n<li>\\n<div class=\"article-photo\">\\n<a class=\"hover-effect\" href=\"https://oddanchatramvegetablemarket.net/coconut-market-price-tamilnadu-9112016/\">\\n<img alt=\"Coconut Market Price Tamilnadu 9/11/2016\" class=\"image-border\" src=\"https://oddanchatramvegetablemarket.net/wp-content/uploads/2016/08/coconut-bulk-quantity-supplier.jpg_350x350-59x42.jpg\"/> </a>\\n</div>\\n<div class=\"article-content\">\\n<h4>\\n<a href=\"https://oddanchatramvegetablemarket.net/coconut-market-price-tamilnadu-9112016/\">Coconut Market Price Tamilnadu 9/11/2016</a>\\n<a class=\"h-comment\" href=\"https://oddanchatramvegetablemarket.net/coconut-market-price-tamilnadu-9112016/#comments\">0</a>\\n</h4>\\n</div>\\n</li>\\n</ul>\\n</div>\\n</div>\\n<div class=\"widget-4 widget\"><h3>Traders by Location</h3><div class=\"menu-suppliers-and-wholesalers-container\"><ul class=\"menu\" id=\"menu-suppliers-and-wholesalers\"><li class=\"menu-item menu-item-type-taxonomy menu-item-object-category menu-item-3643\" id=\"menu-item-3643\"><a href=\"https://oddanchatramvegetablemarket.net/category/fresh-vegetables-wholesalers/coimbatore/\">Coimbatore</a></li>\\n<li class=\"menu-item menu-item-type-taxonomy menu-item-object-category menu-item-3714\" id=\"menu-item-3714\"><a href=\"https://oddanchatramvegetablemarket.net/category/fresh-vegetables-wholesalers/tiruppur-fruits-and-vegetables-exporters/\">Tiruppur</a></li>\\n<li class=\"menu-item menu-item-type-taxonomy menu-item-object-category menu-item-3736\" id=\"menu-item-3736\"><a href=\"https://oddanchatramvegetablemarket.net/category/fresh-vegetables-wholesalers/chennai/\">Chennai</a></li>\\n</ul></div></div><div class=\"widget-5 widget\"><h3>Browse by Vegetables</h3><div class=\"menu-vegetables-container\"><ul class=\"menu\" id=\"menu-vegetables\"><li class=\"menu-item menu-item-type-taxonomy menu-item-object-category menu-item-3716\" id=\"menu-item-3716\"><a href=\"https://oddanchatramvegetablemarket.net/category/fresh-vegetables/coconut/\">Coconut</a></li>\\n<li class=\"menu-item menu-item-type-taxonomy menu-item-object-category menu-item-3766\" id=\"menu-item-3766\"><a href=\"https://oddanchatramvegetablemarket.net/category/fresh-vegetables/garlic/\">Garlic</a></li>\\n<li class=\"menu-item menu-item-type-taxonomy menu-item-object-category menu-item-3717\" id=\"menu-item-3717\"><a href=\"https://oddanchatramvegetablemarket.net/category/fresh-vegetables/onion/\">Onion</a></li>\\n<li class=\"menu-item menu-item-type-taxonomy menu-item-object-category menu-item-3824\" id=\"menu-item-3824\"><a href=\"https://oddanchatramvegetablemarket.net/category/fresh-vegetables/potato/\">Potato</a></li>\\n</ul></div></div><div class=\"widget-6 last widget\"><h3>Twitter Stream</h3> <div class=\"textwidget\"><a class=\"twitter-timeline\" data-widget-id=\"327667018654420992\" href=\"https://twitter.com/OdcMarket\">Tweets by @OdcMarket</a>\\n<script>!function(d,s,id){var js,fjs=d.getElementsByTagName(s)[0],p=/^http:/.test(d.location)?\\'http\\':\\'https\\';if(!d.getElementById(id)){js=d.createElement(s);js.id=id;js.src=p+\"://platform.twitter.com/widgets.js\";fjs.parentNode.insertBefore(js,fjs);}}(document,\"script\",\"twitter-wjs\");</script>\\n</div>\\n</div> </div>\\n<div class=\"clear-float\"></div>\\n</div>\\n<!-- END .wrapper -->\\n</div>\\n<!-- BEGIN .content -->\\n</div>\\n<!-- BEGIN .footer -->\\n<div class=\"footer\">\\n<!-- BEGIN .wrapper -->\\n<div class=\"wrapper\">\\n<ul class=\"right load-responsive\" rel=\"Footer Menu\"><li class=\"menu-item menu-item-type-post_type menu-item-object-page menu-item-home menu-item-5178\" id=\"menu-item-5178\"><a href=\"https://oddanchatramvegetablemarket.net/\">Home</a></li>\\n<li class=\"menu-item menu-item-type-post_type menu-item-object-page current_page_parent menu-item-5175\" id=\"menu-item-5175\"><a href=\"https://oddanchatramvegetablemarket.net/blog/\">Blog</a></li>\\n<li class=\"menu-item menu-item-type-post_type menu-item-object-page menu-item-7372\" id=\"menu-item-7372\"><a href=\"https://oddanchatramvegetablemarket.net/terms-of-service-policy/\">Terms of Service Policy</a></li>\\n<li class=\"menu-item menu-item-type-post_type menu-item-object-page menu-item-5177\" id=\"menu-item-5177\"><a href=\"https://oddanchatramvegetablemarket.net/disclaimer/\">Disclaimer</a></li>\\n<li class=\"menu-item menu-item-type-post_type menu-item-object-page menu-item-5179\" id=\"menu-item-5179\"><a href=\"https://oddanchatramvegetablemarket.net/privacy-policy/\">Privacy Policy</a></li>\\n<li class=\"menu-item menu-item-type-post_type menu-item-object-page menu-item-5176\" id=\"menu-item-5176\"><a href=\"https://oddanchatramvegetablemarket.net/contact-us/\">Contact Us</a></li>\\n</ul>\\n<!--<a href=\"https://oddanchatramvegetablemarket.net\" class=\"logo-footer\"><img src=\"https://oddanchatramvegetablemarket.net/wp-content/uploads/2017/09/odcnew-1.png\" alt=\"Oddanchatram Vegetable Market News, Tamilnadu\" /></a>-->\\n<p>© 2017 Copyright <b>Oddanchatram Vegetable Market</b>. All Rights reserved. <br/> <!-- Contributed by <a href=\"http://smashingwebtech.com\" target=\"_blank\" class=\"Smashing\">Smashing Web Technologies</a></p> -->\\n<!-- END .wrapper -->\\n</p></div>\\n<!-- END .footer -->\\n</div>\\n<div class=\"lightbox\">\\n<div class=\"lightcontent-loading\">\\n<h2 class=\"light-title\">Loading..</h2>\\n<a class=\"light-close\" href=\"#\" onclick=\"javascript:lightboxclose();\"><span>❎</span>Close Window</a>\\n<div class=\"loading-box\">\\n<h3>Loading, Please Wait!</h3>\\n<span>This may take a second or two.</span>\\n<span class=\"loading-image\"><img alt=\"\" src=\"https://oddanchatramvegetablemarket.net/wp-content/themes/ODCV2.1/images/loading.gif\" title=\"\"/></span>\\n</div>\\n</div>\\n<div class=\"lightcontent\"></div>\\n</div>\\n<!-- END .boxed -->\\n</div>\\n<!--Start of Tawk.to Script (0.3.3)-->\\n<script type=\"text/javascript\">\\nvar Tawk_API=Tawk_API||{};\\nvar Tawk_LoadStart=new Date();\\n(function(){\\nvar s1=document.createElement(\"script\"),s0=document.getElementsByTagName(\"script\")[0];\\ns1.async=true;\\ns1.src=\\'https://embed.tawk.to/59b62095c28eca75e461f47d/default\\';\\ns1.charset=\\'UTF-8\\';\\ns1.setAttribute(\\'crossorigin\\',\\'*\\');\\ns0.parentNode.insertBefore(s1,s0);\\n})();\\n</script>\\n<!--End of Tawk.to Script (0.3.3)-->\\n<!-- tracker added by Ultimate Google Analytics plugin v1.6.0: http://www.oratransplant.nl/uga -->\\n<script type=\"text/javascript\">\\r\\nvar gaJsHost = ((\"https:\" == document.location.protocol) ? \"https://ssl.\" : \"http://www.\");\\r\\ndocument.write(unescape(\"%3Cscript src=\\'\" + gaJsHost + \"google-analytics.com/ga.js\\' type=\\'text/javascript\\'%3E%3C/script%3E\"));\\r\\n</script>\\n<script type=\"text/javascript\">\\r\\nvar pageTracker = _gat._getTracker(\"UA-38779157-1\");\\r\\npageTracker._initData();\\r\\npageTracker._trackPageview();\\r\\n</script>\\n<div style=\"display:none\">\\n</div>\\n<link href=\"https://oddanchatramvegetablemarket.net/wp-content/plugins/wp-subscribe/assets/css/wp-subscribe-form.css?ver=5.2.2\" id=\"wp-subscribe-css\" media=\"all\" rel=\"stylesheet\" type=\"text/css\"/>\\n<script type=\"text/javascript\">\\n/* <![CDATA[ */\\nvar wpcf7 = {\"apiSettings\":{\"root\":\"https:\\\\/\\\\/oddanchatramvegetablemarket.net\\\\/wp-json\\\\/contact-form-7\\\\/v1\",\"namespace\":\"contact-form-7\\\\/v1\"}};\\n/* ]]> */\\n</script>\\n<script src=\"https://oddanchatramvegetablemarket.net/wp-content/plugins/contact-form-7/includes/js/scripts.js?ver=5.1.3\" type=\"text/javascript\"></script>\\n<script src=\"https://s0.wp.com/wp-content/js/devicepx-jetpack.js?ver=201932\" type=\"text/javascript\"></script>\\n<script src=\"https://secure.gravatar.com/js/gprofiles.js?ver=2019Augaa\" type=\"text/javascript\"></script>\\n<script type=\"text/javascript\">\\n/* <![CDATA[ */\\nvar WPGroHo = {\"my_hash\":\"\"};\\n/* ]]> */\\n</script>\\n<script src=\"https://oddanchatramvegetablemarket.net/wp-content/plugins/jetpack/modules/wpgroho.js?ver=5.2.2\" type=\"text/javascript\"></script>\\n<script src=\"https://oddanchatramvegetablemarket.net/wp-content/themes/ODCV2.1/js/admin/jquery.cookie.js?ver=1.0\" type=\"text/javascript\"></script>\\n<script src=\"https://oddanchatramvegetablemarket.net/wp-content/themes/ODCV2.1/js/jquery.floating_popup.1.3.min.js?ver=1.0\" type=\"text/javascript\"></script>\\n<script src=\"https://oddanchatramvegetablemarket.net/wp-content/themes/ODCV2.1/js/lightbox.js?ver=1.0\" type=\"text/javascript\"></script>\\n<script src=\"https://oddanchatramvegetablemarket.net/wp-content/themes/ODCV2.1/js/jquery-ui-1.10.3.custom.min.js?ver=1.0\" type=\"text/javascript\"></script>\\n<script src=\"https://oddanchatramvegetablemarket.net/wp-content/themes/ODCV2.1/js/jquery.infinitescroll.min.js?ver=5.2.2\" type=\"text/javascript\"></script>\\n<script src=\"https://oddanchatramvegetablemarket.net/wp-content/themes/ODCV2.1/js/jquery.event.move.js?ver=1.3.1\" type=\"text/javascript\"></script>\\n<script src=\"https://oddanchatramvegetablemarket.net/wp-content/themes/ODCV2.1/js/jquery.isotope.min.js?ver=5.2.2\" type=\"text/javascript\"></script>\\n<script src=\"https://oddanchatramvegetablemarket.net/wp-content/themes/ODCV2.1/js/jquery.event.swipe.js?ver=5.2.2\" type=\"text/javascript\"></script>\\n<script src=\"https://oddanchatramvegetablemarket.net/wp-content/themes/ODCV2.1/js/jquery.kinetic.min.js?ver=5.2.2\" type=\"text/javascript\"></script>\\n<script src=\"https://oddanchatramvegetablemarket.net/wp-content/themes/ODCV2.1/js/jquery.mousewheel.min.js?ver=5.2.2\" type=\"text/javascript\"></script>\\n<script src=\"https://oddanchatramvegetablemarket.net/wp-content/themes/ODCV2.1/js/jquery.smoothdivscroll-1.3-min.js?ver=5.2.2\" type=\"text/javascript\"></script>\\n<script src=\"https://oddanchatramvegetablemarket.net/wp-content/themes/ODCV2.1/js/jquery.dragscroll.min.js?ver=5.2.2\" type=\"text/javascript\"></script>\\n<script src=\"https://oddanchatramvegetablemarket.net/wp-content/themes/ODCV2.1/js/allegro.js?ver=1.0.0\" type=\"text/javascript\"></script>\\n<script src=\"https://oddanchatramvegetablemarket.net/wp-content/themes/ODCV2.1/js/theme-scripts.js?ver=1.5.19\" type=\"text/javascript\"></script>\\n<script src=\"https://oddanchatramvegetablemarket.net/wp-includes/js/comment-reply.min.js?ver=5.2.2\" type=\"text/javascript\"></script>\\n<script src=\"https://oddanchatramvegetablemarket.net/wp-content/themes/ODCV2.1/js/ot_gallery.js?ver=1.0\" type=\"text/javascript\"></script>\\n<script src=\"https://oddanchatramvegetablemarket.net/wp-content/themes/ODCV2.1/js/scripts.js?ver=1.0\" type=\"text/javascript\"></script>\\n<script src=\"https://oddanchatramvegetablemarket.net/wp-content/themes/ODCV2.1/js/iscroll.js?ver=1.0\" type=\"text/javascript\"></script>\\n<script src=\"https://oddanchatramvegetablemarket.net/wp-content/themes/ODCV2.1/js/modernizr.custom.50878.js?ver=1.0\" type=\"text/javascript\"></script>\\n<script src=\"https://oddanchatramvegetablemarket.net/wp-content/themes/ODCV2.1/js/dat-menu.js?ver=1.0\" type=\"text/javascript\"></script>\\n<script type=\"text/javascript\">\\n/* <![CDATA[ */\\nvar jpfbembed = {\"appid\":\"249643311490\",\"locale\":\"en_US\"};\\n/* ]]> */\\n</script>\\n<script src=\"https://oddanchatramvegetablemarket.net/wp-content/plugins/jetpack/_inc/build/facebook-embed.min.js\" type=\"text/javascript\"></script>\\n<script src=\"https://oddanchatramvegetablemarket.net/wp-includes/js/wp-embed.min.js?ver=5.2.2\" type=\"text/javascript\"></script>\\n<script type=\"text/javascript\">\\n/* <![CDATA[ */\\nvar wp_subscribe = {\"ajaxurl\":\"https:\\\\/\\\\/oddanchatramvegetablemarket.net\\\\/wp-admin\\\\/admin-ajax.php\"};\\n/* ]]> */\\n</script>\\n<script src=\"https://oddanchatramvegetablemarket.net/wp-content/plugins/wp-subscribe/assets/js/wp-subscribe-form.js?ver=5.2.2\" type=\"text/javascript\"></script>\\n<script async=\"async\" src=\"https://oddanchatramvegetablemarket.net/wp-content/plugins/akismet/_inc/form.js?ver=4.1.2\" type=\"text/javascript\"></script>\\n<!-- Facebook Comments Plugin for WordPress: http://peadig.com/wordpress-plugins/facebook-comments/ -->\\n<div id=\"fb-root\"></div>\\n<script>(function(d, s, id) {\\n  var js, fjs = d.getElementsByTagName(s)[0];\\n  if (d.getElementById(id)) return;\\n  js = d.createElement(s); js.id = id;\\n  js.src = \"//connect.facebook.net/en_US/sdk.js#xfbml=1&appId=192879437972707&version=v2.3\";\\n  fjs.parentNode.insertBefore(js, fjs);\\n}(document, \\'script\\', \\'facebook-jssdk\\'));</script>\\n<script async=\"async\" defer=\"defer\" src=\"https://stats.wp.com/e-201932.js\" type=\"text/javascript\"></script>\\n<script type=\"text/javascript\">\\n\\t_stq = window._stq || [];\\n\\t_stq.push([ \\'view\\', {v:\\'ext\\',j:\\'1:7.5.2\\',blog:\\'147151759\\',post:\\'160\\',tz:\\'5.5\\',srv:\\'oddanchatramvegetablemarket.net\\'} ]);\\n\\t_stq.push([ \\'clickTrackerInit\\', \\'147151759\\', \\'160\\' ]);\\n</script>\\n<!-- WP QUADS v. 1.8.6  Shortcode Ad -->\\n<div class=\"quads-location quads-ad1\" id=\"quads-ad1\" style=\"float:none;margin:0px;\">\\n<div class=\"cfmonitor\"><script async=\"\" src=\"//pagead2.googlesyndication.com/pagead/js/adsbygoogle.js\"></script>\\n<!-- Oddan.net Footer -->\\n<ins class=\"adsbygoogle\" data-ad-client=\"ca-pub-8502141479774224\" data-ad-format=\"auto\" data-ad-slot=\"8796716993\" style=\"display:block\"></ins>\\n<script>\\r\\n(adsbygoogle = window.adsbygoogle || []).push({});\\r\\n</script></div></div>\\n</body></html>'"
      ]
     },
     "execution_count": 31,
     "metadata": {},
     "output_type": "execute_result"
    }
   ],
   "source": [
    "output"
   ]
  },
  {
   "cell_type": "code",
   "execution_count": 32,
   "metadata": {},
   "outputs": [
    {
     "data": {
      "text/plain": [
       "[<a href=\"https://oddanchatramvegetablemarket.net\"><img alt=\"Oddanchatram Vegetable Market News, Tamilnadu\" src=\"https://oddanchatramvegetablemarket.net/wp-content/uploads/2017/12/asd.png\"/></a>,\n",
       " <a href=\"https://oddanchatramvegetablemarket.net/about-market/\">About Gandhi Market</a>,\n",
       " <a href=\"https://oddanchatramvegetablemarket.net/add/\">Add Business (FREE)</a>,\n",
       " <a href=\"https://oddanchatramvegetablemarket.net/buy-sell/\">Buy Sell</a>,\n",
       " <a href=\"https://oddanchatramvegetablemarket.net/\">Home</a>,\n",
       " <a href=\"https://oddanchatramvegetablemarket.net/category/oddanchatram-vegetable-price/\">Oddanchatram Gandhi Market Vegetable Price</a>,\n",
       " <a href=\"https://oddanchatramvegetablemarket.net/category/dindigul-vegetable-price/\">Dindigul Vegetable Price</a>,\n",
       " <a href=\"https://oddanchatramvegetablemarket.net/category/coconut-market-price/\">Coconut Market Price</a>,\n",
       " <a href=\"https://oddanchatramvegetablemarket.net/category/oddanchatram-vegetable-wholesalers/\">Oddanchatram Market Wholesalers</a>,\n",
       " <a href=\"https://oddanchatramvegetablemarket.net/category/chennai-vegetable-wholesalers/\">Chennai Market Wholesalers</a>,\n",
       " <a class=\"custom-soc icon-text ot-share\" data-url=\"https://oddanchatramvegetablemarket.net/oddanchatram-vegetable-market-price-details-7-8-2019/\" href=\"http://www.facebook.com/sharer/sharer.php?u=https://oddanchatramvegetablemarket.net/oddanchatram-vegetable-market-price-details-7-8-2019/\"></a>,\n",
       " <a class=\"ot-tweet custom-soc icon-text\" data-hashtags=\"\" data-text=\"Oddanchatram Vegetable Market Price Details 7/8/2019\" data-url=\"https://oddanchatramvegetablemarket.net/oddanchatram-vegetable-market-price-details-7-8-2019/\" data-via=\"odcmarket\" href=\"#\"></a>,\n",
       " <a class=\"custom-soc icon-text ot-pluss\" href=\"https://plus.google.com/share?url=https://oddanchatramvegetablemarket.net/oddanchatram-vegetable-market-price-details-7-8-2019/\"></a>,\n",
       " <a class=\"ot-pin custom-soc icon-text\" data-url=\"https://oddanchatramvegetablemarket.net/oddanchatram-vegetable-market-price-details-7-8-2019/\" href=\"http://pinterest.com/pin/create/button/?url=https://oddanchatramvegetablemarket.net/oddanchatram-vegetable-market-price-details-7-8-2019/&amp;media=https://oddanchatramvegetablemarket.net/wp-content/uploads/2019/08/Oddanchatram-Vegetable-Market-Images-4-2.jpg&amp;description=Oddanchatram Vegetable Market Price Details 7/8/2019\"></a>,\n",
       " <a class=\"ot-link custom-soc icon-text\" data-url=\"https://oddanchatramvegetablemarket.net/oddanchatram-vegetable-market-price-details-7-8-2019/\" href=\"http://www.linkedin.com/shareArticle?mini=true&amp;url=https://oddanchatramvegetablemarket.net/oddanchatram-vegetable-market-price-details-7-8-2019/&amp;title=Oddanchatram Vegetable Market Price Details 7/8/2019\"></a>,\n",
       " <a class=\"small-button\" href=\"javascript:printArticle();\"><span class=\"icon-text\"></span>  Print this article</a>,\n",
       " <a class=\"small-button\" href=\"mailto:?subject=Oddanchatram%20Vegetable%20Market%20News%2C%20Tamilnadu%20%3A%20Oddanchatram%20Vegetable%20Market%20Price%20Details%207%2F8%2F2019&amp;body=Check%20out%20this%20article%3A%20Oddanchatram%20Vegetable%20Market%20Price%20Details%207%2F8%2F2019%20-%20https%3A%2F%2Foddanchatramvegetablemarket.net%2Foddanchatram-vegetable-market-price-details-7-8-2019%2F\" target=\"_blank\" title=\"Oddanchatram Vegetable Market Price Details 7/8/2019\"><span class=\"icon-text\">✉</span>  Send e-mail</a>,\n",
       " <a class=\"custom-soc icon-text ot-share\" data-url=\"https://oddanchatramvegetablemarket.net/oddanchatram-vegetable-market-price-details-7-8-2019/\" href=\"http://www.facebook.com/sharer/sharer.php?u=https://oddanchatramvegetablemarket.net/oddanchatram-vegetable-market-price-details-7-8-2019/\"></a>,\n",
       " <a class=\"ot-tweet custom-soc icon-text\" data-hashtags=\"\" data-text=\"Oddanchatram Vegetable Market Price Details 7/8/2019\" data-url=\"https://oddanchatramvegetablemarket.net/oddanchatram-vegetable-market-price-details-7-8-2019/\" data-via=\"odcmarket\" href=\"#\"></a>,\n",
       " <a class=\"custom-soc icon-text ot-pluss\" href=\"https://plus.google.com/share?url=https://oddanchatramvegetablemarket.net/oddanchatram-vegetable-market-price-details-7-8-2019/\"></a>,\n",
       " <a class=\"ot-pin custom-soc icon-text\" data-url=\"https://oddanchatramvegetablemarket.net/oddanchatram-vegetable-market-price-details-7-8-2019/\" href=\"http://pinterest.com/pin/create/button/?url=https://oddanchatramvegetablemarket.net/oddanchatram-vegetable-market-price-details-7-8-2019/&amp;media=https://oddanchatramvegetablemarket.net/wp-content/uploads/2019/08/Oddanchatram-Vegetable-Market-Images-4-2.jpg&amp;description=Oddanchatram Vegetable Market Price Details 7/8/2019\"></a>,\n",
       " <a class=\"ot-link custom-soc icon-text\" data-url=\"https://oddanchatramvegetablemarket.net/oddanchatram-vegetable-market-price-details-7-8-2019/\" href=\"http://www.linkedin.com/shareArticle?mini=true&amp;url=https://oddanchatramvegetablemarket.net/oddanchatram-vegetable-market-price-details-7-8-2019/&amp;title=Oddanchatram Vegetable Market Price Details 7/8/2019\"></a>,\n",
       " <a class=\"small-button\" href=\"javascript:printArticle();\"><span class=\"icon-text\"></span>  Print this article</a>,\n",
       " <a class=\"small-button\" href=\"mailto:?subject=Oddanchatram%20Vegetable%20Market%20News%2C%20Tamilnadu%20%3A%20Oddanchatram%20Vegetable%20Market%20Price%20Details%207%2F8%2F2019&amp;body=Check%20out%20this%20article%3A%20Oddanchatram%20Vegetable%20Market%20Price%20Details%207%2F8%2F2019%20-%20https%3A%2F%2Foddanchatramvegetablemarket.net%2Foddanchatram-vegetable-market-price-details-7-8-2019%2F\" target=\"_blank\" title=\"Oddanchatram Vegetable Market Price Details 7/8/2019\"><span class=\"icon-text\">✉</span>  Send e-mail</a>,\n",
       " <a class=\"right\" href=\"#respond\">Write a comment</a>,\n",
       " <a class=\"icon-link\" href=\"#respond\"><span class=\"icon-text\"></span>Write a comment</a>,\n",
       " <a class=\"right\" href=\"#comments\">View comments</a>,\n",
       " <a href=\"#\" name=\"respond\"></a>,\n",
       " <a href=\"/oddanchatram-vegetable-market-price-details-7-8-2019/#respond\" id=\"cancel-comment-reply-link\" rel=\"nofollow\" style=\"display:none;\">Click here to cancel reply.</a>,\n",
       " <a href=\"https://akismet.com/privacy/\" rel=\"nofollow noopener\" target=\"_blank\">Learn how your comment data is processed</a>,\n",
       " <a href=\"https://www.facebook.com/odcmarket\">Oddanchatram Vegetable Market</a>,\n",
       " <a class=\"hover-effect\" href=\"https://oddanchatramvegetablemarket.net/oddanchatram-vegetable-market-price-details-7-8-2019/\">\n",
       " <img alt=\"Oddanchatram Vegetable Market Price Details 7/8/2019\" class=\"image-border\" src=\"https://oddanchatramvegetablemarket.net/wp-content/uploads/2019/08/Oddanchatram-Vegetable-Market-Images-4-2-59x42.jpg\"/> </a>,\n",
       " <a href=\"https://oddanchatramvegetablemarket.net/oddanchatram-vegetable-market-price-details-7-8-2019/\">Oddanchatram Vegetable Market Price Details 7/8/2019</a>,\n",
       " <a class=\"h-comment\" href=\"https://oddanchatramvegetablemarket.net/oddanchatram-vegetable-market-price-details-7-8-2019/#comments\">0</a>,\n",
       " <a class=\"hover-effect\" href=\"https://oddanchatramvegetablemarket.net/oddanchatram-vegetable-market-price-details-6-8-2019/\">\n",
       " <img alt=\"Oddanchatram Vegetable Market Price Details 6/8/2019\" class=\"image-border\" src=\"https://oddanchatramvegetablemarket.net/wp-content/uploads/2019/08/Oddanchatram-Vegetable-Market-Images-2-59x42.jpg\"/> </a>,\n",
       " <a href=\"https://oddanchatramvegetablemarket.net/oddanchatram-vegetable-market-price-details-6-8-2019/\">Oddanchatram Vegetable Market Price Details 6/8/2019</a>,\n",
       " <a class=\"h-comment\" href=\"https://oddanchatramvegetablemarket.net/oddanchatram-vegetable-market-price-details-6-8-2019/#comments\">0</a>,\n",
       " <a class=\"hover-effect\" href=\"https://oddanchatramvegetablemarket.net/oddanchatram-vegetable-market-price-details-5-8-2019/\">\n",
       " <img alt=\"Oddanchatram Vegetable Market Price Details 5/8/2019\" class=\"image-border\" src=\"https://oddanchatramvegetablemarket.net/wp-content/uploads/2019/08/Oddanchatram-Vegetable-Market-Images-3-59x42.jpg\"/> </a>,\n",
       " <a href=\"https://oddanchatramvegetablemarket.net/oddanchatram-vegetable-market-price-details-5-8-2019/\">Oddanchatram Vegetable Market Price Details 5/8/2019</a>,\n",
       " <a class=\"h-comment\" href=\"https://oddanchatramvegetablemarket.net/oddanchatram-vegetable-market-price-details-5-8-2019/#comments\">0</a>,\n",
       " <a class=\"hover-effect\" href=\"https://oddanchatramvegetablemarket.net/coconut-market-price-tamilnadu-22122016/\">\n",
       " <img alt=\"Coconut Market Price Tamilnadu 22/12/2016\" class=\"image-border\" src=\"https://oddanchatramvegetablemarket.net/wp-content/uploads/2016/03/semi-husked-coconut-678582-2-59x42.jpg\"/> </a>,\n",
       " <a href=\"https://oddanchatramvegetablemarket.net/coconut-market-price-tamilnadu-22122016/\">Coconut Market Price Tamilnadu 22/12/2016</a>,\n",
       " <a class=\"h-comment\" href=\"https://oddanchatramvegetablemarket.net/coconut-market-price-tamilnadu-22122016/#comments\">23</a>,\n",
       " <a class=\"hover-effect\" href=\"https://oddanchatramvegetablemarket.net/coconut-market-price-tamilnadu-23112016/\">\n",
       " <img alt=\"Coconut Market Price Tamilnadu 23/11/2016\" class=\"image-border\" src=\"https://oddanchatramvegetablemarket.net/wp-content/uploads/2016/03/semi-husked-coconut-678582-2-59x42.jpg\"/> </a>,\n",
       " <a href=\"https://oddanchatramvegetablemarket.net/coconut-market-price-tamilnadu-23112016/\">Coconut Market Price Tamilnadu 23/11/2016</a>,\n",
       " <a class=\"h-comment\" href=\"https://oddanchatramvegetablemarket.net/coconut-market-price-tamilnadu-23112016/#comments\">10</a>,\n",
       " <a class=\"hover-effect\" href=\"https://oddanchatramvegetablemarket.net/coconut-market-price-tamilnadu-9112016/\">\n",
       " <img alt=\"Coconut Market Price Tamilnadu 9/11/2016\" class=\"image-border\" src=\"https://oddanchatramvegetablemarket.net/wp-content/uploads/2016/08/coconut-bulk-quantity-supplier.jpg_350x350-59x42.jpg\"/> </a>,\n",
       " <a href=\"https://oddanchatramvegetablemarket.net/coconut-market-price-tamilnadu-9112016/\">Coconut Market Price Tamilnadu 9/11/2016</a>,\n",
       " <a class=\"h-comment\" href=\"https://oddanchatramvegetablemarket.net/coconut-market-price-tamilnadu-9112016/#comments\">0</a>,\n",
       " <a href=\"https://oddanchatramvegetablemarket.net/category/fresh-vegetables-wholesalers/coimbatore/\">Coimbatore</a>,\n",
       " <a href=\"https://oddanchatramvegetablemarket.net/category/fresh-vegetables-wholesalers/tiruppur-fruits-and-vegetables-exporters/\">Tiruppur</a>,\n",
       " <a href=\"https://oddanchatramvegetablemarket.net/category/fresh-vegetables-wholesalers/chennai/\">Chennai</a>,\n",
       " <a href=\"https://oddanchatramvegetablemarket.net/category/fresh-vegetables/coconut/\">Coconut</a>,\n",
       " <a href=\"https://oddanchatramvegetablemarket.net/category/fresh-vegetables/garlic/\">Garlic</a>,\n",
       " <a href=\"https://oddanchatramvegetablemarket.net/category/fresh-vegetables/onion/\">Onion</a>,\n",
       " <a href=\"https://oddanchatramvegetablemarket.net/category/fresh-vegetables/potato/\">Potato</a>,\n",
       " <a class=\"twitter-timeline\" data-widget-id=\"327667018654420992\" href=\"https://twitter.com/OdcMarket\">Tweets by @OdcMarket</a>,\n",
       " <a href=\"https://oddanchatramvegetablemarket.net/\">Home</a>,\n",
       " <a href=\"https://oddanchatramvegetablemarket.net/blog/\">Blog</a>,\n",
       " <a href=\"https://oddanchatramvegetablemarket.net/terms-of-service-policy/\">Terms of Service Policy</a>,\n",
       " <a href=\"https://oddanchatramvegetablemarket.net/disclaimer/\">Disclaimer</a>,\n",
       " <a href=\"https://oddanchatramvegetablemarket.net/privacy-policy/\">Privacy Policy</a>,\n",
       " <a href=\"https://oddanchatramvegetablemarket.net/contact-us/\">Contact Us</a>,\n",
       " <a class=\"light-close\" href=\"#\" onclick=\"javascript:lightboxclose();\"><span>❎</span>Close Window</a>]"
      ]
     },
     "execution_count": 32,
     "metadata": {},
     "output_type": "execute_result"
    }
   ],
   "source": [
    "content.find_all('a')"
   ]
  },
  {
   "cell_type": "code",
   "execution_count": 37,
   "metadata": {},
   "outputs": [
    {
     "data": {
      "text/plain": [
       "[<a href=\"https://oddanchatramvegetablemarket.net\"><img alt=\"Oddanchatram Vegetable Market News, Tamilnadu\" src=\"https://oddanchatramvegetablemarket.net/wp-content/uploads/2017/12/asd.png\"/></a>,\n",
       " <a href=\"https://oddanchatramvegetablemarket.net/about-market/\">About Gandhi Market</a>,\n",
       " <a href=\"https://oddanchatramvegetablemarket.net/add/\">Add Business (FREE)</a>,\n",
       " <a href=\"https://oddanchatramvegetablemarket.net/buy-sell/\">Buy Sell</a>,\n",
       " <a href=\"https://oddanchatramvegetablemarket.net/\">Home</a>,\n",
       " <a href=\"https://oddanchatramvegetablemarket.net/category/oddanchatram-vegetable-price/\">Oddanchatram Gandhi Market Vegetable Price</a>,\n",
       " <a href=\"https://oddanchatramvegetablemarket.net/category/dindigul-vegetable-price/\">Dindigul Vegetable Price</a>,\n",
       " <a href=\"https://oddanchatramvegetablemarket.net/category/coconut-market-price/\">Coconut Market Price</a>,\n",
       " <a href=\"https://oddanchatramvegetablemarket.net/category/oddanchatram-vegetable-wholesalers/\">Oddanchatram Market Wholesalers</a>,\n",
       " <a href=\"https://oddanchatramvegetablemarket.net/category/chennai-vegetable-wholesalers/\">Chennai Market Wholesalers</a>,\n",
       " <a class=\"custom-soc icon-text ot-share\" data-url=\"https://oddanchatramvegetablemarket.net/oddanchatram-vegetable-price-details-01052013/\" href=\"http://www.facebook.com/sharer/sharer.php?u=https://oddanchatramvegetablemarket.net/oddanchatram-vegetable-price-details-01052013/\"></a>,\n",
       " <a class=\"ot-tweet custom-soc icon-text\" data-hashtags=\"\" data-text=\"Oddanchatram Vegetable Price Details 01/05/2013\" data-url=\"https://oddanchatramvegetablemarket.net/oddanchatram-vegetable-price-details-01052013/\" data-via=\"odcmarket\" href=\"#\"></a>,\n",
       " <a class=\"custom-soc icon-text ot-pluss\" href=\"https://plus.google.com/share?url=https://oddanchatramvegetablemarket.net/oddanchatram-vegetable-price-details-01052013/\"></a>,\n",
       " <a class=\"ot-pin custom-soc icon-text\" data-url=\"https://oddanchatramvegetablemarket.net/oddanchatram-vegetable-price-details-01052013/\" href=\"http://pinterest.com/pin/create/button/?url=https://oddanchatramvegetablemarket.net/oddanchatram-vegetable-price-details-01052013/&amp;media=https://oddanchatramvegetablemarket.net/wp-content/themes/ODCV2.1/images/no-image-0x0.jpg&amp;description=Oddanchatram Vegetable Price Details 01/05/2013\"></a>,\n",
       " <a class=\"ot-link custom-soc icon-text\" data-url=\"https://oddanchatramvegetablemarket.net/oddanchatram-vegetable-price-details-01052013/\" href=\"http://www.linkedin.com/shareArticle?mini=true&amp;url=https://oddanchatramvegetablemarket.net/oddanchatram-vegetable-price-details-01052013/&amp;title=Oddanchatram Vegetable Price Details 01/05/2013\"></a>,\n",
       " <a class=\"custom-soc icon-text ot-share\" data-url=\"https://oddanchatramvegetablemarket.net/oddanchatram-vegetable-price-details-01052013/\" href=\"http://www.facebook.com/sharer/sharer.php?u=https://oddanchatramvegetablemarket.net/oddanchatram-vegetable-price-details-01052013/\"></a>,\n",
       " <a class=\"ot-tweet custom-soc icon-text\" data-hashtags=\"\" data-text=\"Oddanchatram Vegetable Price Details 01/05/2013\" data-url=\"https://oddanchatramvegetablemarket.net/oddanchatram-vegetable-price-details-01052013/\" data-via=\"odcmarket\" href=\"#\"></a>,\n",
       " <a class=\"custom-soc icon-text ot-pluss\" href=\"https://plus.google.com/share?url=https://oddanchatramvegetablemarket.net/oddanchatram-vegetable-price-details-01052013/\"></a>,\n",
       " <a class=\"ot-pin custom-soc icon-text\" data-url=\"https://oddanchatramvegetablemarket.net/oddanchatram-vegetable-price-details-01052013/\" href=\"http://pinterest.com/pin/create/button/?url=https://oddanchatramvegetablemarket.net/oddanchatram-vegetable-price-details-01052013/&amp;media=https://oddanchatramvegetablemarket.net/wp-content/themes/ODCV2.1/images/no-image-0x0.jpg&amp;description=Oddanchatram Vegetable Price Details 01/05/2013\"></a>,\n",
       " <a class=\"ot-link custom-soc icon-text\" data-url=\"https://oddanchatramvegetablemarket.net/oddanchatram-vegetable-price-details-01052013/\" href=\"http://www.linkedin.com/shareArticle?mini=true&amp;url=https://oddanchatramvegetablemarket.net/oddanchatram-vegetable-price-details-01052013/&amp;title=Oddanchatram Vegetable Price Details 01/05/2013\"></a>,\n",
       " <a href=\"https://oddanchatramvegetablemarket.net/tag/oddanchatram-vegetable-price-details-01052013/\">Oddanchatram Vegetable Price Details 01/05/2013</a>,\n",
       " <a class=\"right\" href=\"#respond\">Write a comment</a>,\n",
       " <a class=\"icon-link\" href=\"#respond\"><span class=\"icon-text\"></span>Write a comment</a>,\n",
       " <a class=\"right\" href=\"#comments\">View comments</a>,\n",
       " <a href=\"#\" name=\"respond\"></a>,\n",
       " <a href=\"/oddanchatram-vegetable-price-details-01052013/#respond\" id=\"cancel-comment-reply-link\" rel=\"nofollow\" style=\"display:none;\">Click here to cancel reply.</a>,\n",
       " <a href=\"https://akismet.com/privacy/\" rel=\"nofollow noopener\" target=\"_blank\">Learn how your comment data is processed</a>,\n",
       " <a href=\"https://www.facebook.com/odcmarket\">Oddanchatram Vegetable Market</a>,\n",
       " <a class=\"hover-effect\" href=\"https://oddanchatramvegetablemarket.net/oddanchatram-vegetable-market-price-details-8-8-2019/\">\n",
       " <img alt=\"Oddanchatram Vegetable Market Price Details 8/8/2019\" class=\"image-border\" src=\"https://oddanchatramvegetablemarket.net/wp-content/uploads/2019/08/Oddanchatram-Vegetable-Market-Images-1-2-59x42.jpg\"/> </a>,\n",
       " <a href=\"https://oddanchatramvegetablemarket.net/oddanchatram-vegetable-market-price-details-8-8-2019/\">Oddanchatram Vegetable Market Price Details 8/8/2019</a>,\n",
       " <a class=\"h-comment\" href=\"https://oddanchatramvegetablemarket.net/oddanchatram-vegetable-market-price-details-8-8-2019/#comments\">0</a>,\n",
       " <a class=\"hover-effect\" href=\"https://oddanchatramvegetablemarket.net/oddanchatram-vegetable-market-price-details-7-8-2019/\">\n",
       " <img alt=\"Oddanchatram Vegetable Market Price Details 7/8/2019\" class=\"image-border\" src=\"https://oddanchatramvegetablemarket.net/wp-content/uploads/2019/08/Oddanchatram-Vegetable-Market-Images-4-2-59x42.jpg\"/> </a>,\n",
       " <a href=\"https://oddanchatramvegetablemarket.net/oddanchatram-vegetable-market-price-details-7-8-2019/\">Oddanchatram Vegetable Market Price Details 7/8/2019</a>,\n",
       " <a class=\"h-comment\" href=\"https://oddanchatramvegetablemarket.net/oddanchatram-vegetable-market-price-details-7-8-2019/#comments\">0</a>,\n",
       " <a class=\"hover-effect\" href=\"https://oddanchatramvegetablemarket.net/oddanchatram-vegetable-market-price-details-6-8-2019/\">\n",
       " <img alt=\"Oddanchatram Vegetable Market Price Details 6/8/2019\" class=\"image-border\" src=\"https://oddanchatramvegetablemarket.net/wp-content/uploads/2019/08/Oddanchatram-Vegetable-Market-Images-2-59x42.jpg\"/> </a>,\n",
       " <a href=\"https://oddanchatramvegetablemarket.net/oddanchatram-vegetable-market-price-details-6-8-2019/\">Oddanchatram Vegetable Market Price Details 6/8/2019</a>,\n",
       " <a class=\"h-comment\" href=\"https://oddanchatramvegetablemarket.net/oddanchatram-vegetable-market-price-details-6-8-2019/#comments\">0</a>,\n",
       " <a class=\"hover-effect\" href=\"https://oddanchatramvegetablemarket.net/coconut-market-price-tamilnadu-22122016/\">\n",
       " <img alt=\"Coconut Market Price Tamilnadu 22/12/2016\" class=\"image-border\" src=\"https://oddanchatramvegetablemarket.net/wp-content/uploads/2016/03/semi-husked-coconut-678582-2-59x42.jpg\"/> </a>,\n",
       " <a href=\"https://oddanchatramvegetablemarket.net/coconut-market-price-tamilnadu-22122016/\">Coconut Market Price Tamilnadu 22/12/2016</a>,\n",
       " <a class=\"h-comment\" href=\"https://oddanchatramvegetablemarket.net/coconut-market-price-tamilnadu-22122016/#comments\">23</a>,\n",
       " <a class=\"hover-effect\" href=\"https://oddanchatramvegetablemarket.net/coconut-market-price-tamilnadu-23112016/\">\n",
       " <img alt=\"Coconut Market Price Tamilnadu 23/11/2016\" class=\"image-border\" src=\"https://oddanchatramvegetablemarket.net/wp-content/uploads/2016/03/semi-husked-coconut-678582-2-59x42.jpg\"/> </a>,\n",
       " <a href=\"https://oddanchatramvegetablemarket.net/coconut-market-price-tamilnadu-23112016/\">Coconut Market Price Tamilnadu 23/11/2016</a>,\n",
       " <a class=\"h-comment\" href=\"https://oddanchatramvegetablemarket.net/coconut-market-price-tamilnadu-23112016/#comments\">10</a>,\n",
       " <a class=\"hover-effect\" href=\"https://oddanchatramvegetablemarket.net/coconut-market-price-tamilnadu-9112016/\">\n",
       " <img alt=\"Coconut Market Price Tamilnadu 9/11/2016\" class=\"image-border\" src=\"https://oddanchatramvegetablemarket.net/wp-content/uploads/2016/08/coconut-bulk-quantity-supplier.jpg_350x350-59x42.jpg\"/> </a>,\n",
       " <a href=\"https://oddanchatramvegetablemarket.net/coconut-market-price-tamilnadu-9112016/\">Coconut Market Price Tamilnadu 9/11/2016</a>,\n",
       " <a class=\"h-comment\" href=\"https://oddanchatramvegetablemarket.net/coconut-market-price-tamilnadu-9112016/#comments\">0</a>,\n",
       " <a href=\"https://oddanchatramvegetablemarket.net/category/fresh-vegetables-wholesalers/coimbatore/\">Coimbatore</a>,\n",
       " <a href=\"https://oddanchatramvegetablemarket.net/category/fresh-vegetables-wholesalers/tiruppur-fruits-and-vegetables-exporters/\">Tiruppur</a>,\n",
       " <a href=\"https://oddanchatramvegetablemarket.net/category/fresh-vegetables-wholesalers/chennai/\">Chennai</a>,\n",
       " <a href=\"https://oddanchatramvegetablemarket.net/category/fresh-vegetables/coconut/\">Coconut</a>,\n",
       " <a href=\"https://oddanchatramvegetablemarket.net/category/fresh-vegetables/garlic/\">Garlic</a>,\n",
       " <a href=\"https://oddanchatramvegetablemarket.net/category/fresh-vegetables/onion/\">Onion</a>,\n",
       " <a href=\"https://oddanchatramvegetablemarket.net/category/fresh-vegetables/potato/\">Potato</a>,\n",
       " <a class=\"twitter-timeline\" data-widget-id=\"327667018654420992\" href=\"https://twitter.com/OdcMarket\">Tweets by @OdcMarket</a>,\n",
       " <a href=\"https://oddanchatramvegetablemarket.net/\">Home</a>,\n",
       " <a href=\"https://oddanchatramvegetablemarket.net/blog/\">Blog</a>,\n",
       " <a href=\"https://oddanchatramvegetablemarket.net/terms-of-service-policy/\">Terms of Service Policy</a>,\n",
       " <a href=\"https://oddanchatramvegetablemarket.net/disclaimer/\">Disclaimer</a>,\n",
       " <a href=\"https://oddanchatramvegetablemarket.net/privacy-policy/\">Privacy Policy</a>,\n",
       " <a href=\"https://oddanchatramvegetablemarket.net/contact-us/\">Contact Us</a>,\n",
       " <a class=\"light-close\" href=\"#\" onclick=\"javascript:lightboxclose();\"><span>❎</span>Close Window</a>]"
      ]
     },
     "execution_count": 37,
     "metadata": {},
     "output_type": "execute_result"
    }
   ],
   "source": [
    "output.find_all('a')"
   ]
  },
  {
   "cell_type": "code",
   "execution_count": null,
   "metadata": {},
   "outputs": [],
   "source": []
  },
  {
   "cell_type": "code",
   "execution_count": 34,
   "metadata": {},
   "outputs": [
    {
     "data": {
      "text/plain": [
       "str"
      ]
     },
     "execution_count": 34,
     "metadata": {},
     "output_type": "execute_result"
    }
   ],
   "source": [
    "type(output)"
   ]
  },
  {
   "cell_type": "code",
   "execution_count": 35,
   "metadata": {},
   "outputs": [
    {
     "data": {
      "text/plain": [
       "bs4.BeautifulSoup"
      ]
     },
     "execution_count": 35,
     "metadata": {},
     "output_type": "execute_result"
    }
   ],
   "source": [
    "type(content)"
   ]
  },
  {
   "cell_type": "code",
   "execution_count": 36,
   "metadata": {},
   "outputs": [],
   "source": [
    "output = BeautifulSoup(response.content)"
   ]
  },
  {
   "cell_type": "code",
   "execution_count": 38,
   "metadata": {},
   "outputs": [
    {
     "data": {
      "text/plain": [
       "3"
      ]
     },
     "execution_count": 38,
     "metadata": {},
     "output_type": "execute_result"
    }
   ],
   "source": [
    "len(output)"
   ]
  },
  {
   "cell_type": "code",
   "execution_count": 41,
   "metadata": {},
   "outputs": [
    {
     "data": {
      "text/plain": [
       "[]"
      ]
     },
     "execution_count": 41,
     "metadata": {},
     "output_type": "execute_result"
    }
   ],
   "source": [
    "output.find_all('href')"
   ]
  },
  {
   "cell_type": "code",
   "execution_count": null,
   "metadata": {},
   "outputs": [],
   "source": []
  },
  {
   "cell_type": "code",
   "execution_count": null,
   "metadata": {},
   "outputs": [],
   "source": []
  },
  {
   "cell_type": "code",
   "execution_count": null,
   "metadata": {},
   "outputs": [],
   "source": []
  },
  {
   "cell_type": "code",
   "execution_count": null,
   "metadata": {},
   "outputs": [],
   "source": []
  },
  {
   "cell_type": "code",
   "execution_count": null,
   "metadata": {},
   "outputs": [],
   "source": []
  },
  {
   "cell_type": "code",
   "execution_count": null,
   "metadata": {},
   "outputs": [],
   "source": []
  },
  {
   "cell_type": "code",
   "execution_count": null,
   "metadata": {},
   "outputs": [],
   "source": []
  },
  {
   "cell_type": "code",
   "execution_count": null,
   "metadata": {},
   "outputs": [],
   "source": []
  },
  {
   "cell_type": "code",
   "execution_count": null,
   "metadata": {},
   "outputs": [],
   "source": []
  },
  {
   "cell_type": "code",
   "execution_count": null,
   "metadata": {},
   "outputs": [],
   "source": []
  },
  {
   "cell_type": "code",
   "execution_count": null,
   "metadata": {},
   "outputs": [],
   "source": []
  }
 ],
 "metadata": {
  "kernelspec": {
   "display_name": "Python 3",
   "language": "python",
   "name": "python3"
  },
  "language_info": {
   "codemirror_mode": {
    "name": "ipython",
    "version": 3
   },
   "file_extension": ".py",
   "mimetype": "text/x-python",
   "name": "python",
   "nbconvert_exporter": "python",
   "pygments_lexer": "ipython3",
   "version": "3.7.3"
  }
 },
 "nbformat": 4,
 "nbformat_minor": 4
}
